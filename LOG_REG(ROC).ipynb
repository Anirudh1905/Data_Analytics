{
  "nbformat": 4,
  "nbformat_minor": 0,
  "metadata": {
    "colab": {
      "name": "LOG_REG(ROC).ipynb",
      "provenance": [],
      "mount_file_id": "1NA-CIBm2NqUZVtHb0NjobEzdbDS7_vpW",
      "authorship_tag": "ABX9TyN3afvaPzSytcuIdcph8xjd",
      "include_colab_link": true
    },
    "kernelspec": {
      "name": "python3",
      "display_name": "Python 3"
    }
  },
  "cells": [
    {
      "cell_type": "markdown",
      "metadata": {
        "id": "view-in-github",
        "colab_type": "text"
      },
      "source": [
        "<a href=\"https://colab.research.google.com/github/Anirudh1905/Data_Analytics/blob/master/LOG_REG(ROC).ipynb\" target=\"_parent\"><img src=\"https://colab.research.google.com/assets/colab-badge.svg\" alt=\"Open In Colab\"/></a>"
      ]
    },
    {
      "cell_type": "code",
      "metadata": {
        "id": "LFpqeFKCUE7w",
        "colab_type": "code",
        "colab": {}
      },
      "source": [
        "import pandas as pd\n",
        "import numpy as np\n",
        "import matplotlib.pyplot as plt"
      ],
      "execution_count": 0,
      "outputs": []
    },
    {
      "cell_type": "code",
      "metadata": {
        "id": "F2krcsNwV5cV",
        "colab_type": "code",
        "outputId": "aac60bd3-a577-4f0d-dd35-5241a26c458e",
        "colab": {
          "base_uri": "https://localhost:8080/",
          "height": 191
        }
      },
      "source": [
        "data=pd.read_excel('/content/drive/My Drive/Colab Notebooks/Simmons.xls')\n",
        "data.head()"
      ],
      "execution_count": 91,
      "outputs": [
        {
          "output_type": "execute_result",
          "data": {
            "text/html": [
              "<div>\n",
              "<style scoped>\n",
              "    .dataframe tbody tr th:only-of-type {\n",
              "        vertical-align: middle;\n",
              "    }\n",
              "\n",
              "    .dataframe tbody tr th {\n",
              "        vertical-align: top;\n",
              "    }\n",
              "\n",
              "    .dataframe thead th {\n",
              "        text-align: right;\n",
              "    }\n",
              "</style>\n",
              "<table border=\"1\" class=\"dataframe\">\n",
              "  <thead>\n",
              "    <tr style=\"text-align: right;\">\n",
              "      <th></th>\n",
              "      <th>Customer</th>\n",
              "      <th>Spending</th>\n",
              "      <th>Card</th>\n",
              "      <th>Coupon</th>\n",
              "    </tr>\n",
              "  </thead>\n",
              "  <tbody>\n",
              "    <tr>\n",
              "      <th>0</th>\n",
              "      <td>1</td>\n",
              "      <td>2.291</td>\n",
              "      <td>1</td>\n",
              "      <td>0</td>\n",
              "    </tr>\n",
              "    <tr>\n",
              "      <th>1</th>\n",
              "      <td>2</td>\n",
              "      <td>3.215</td>\n",
              "      <td>1</td>\n",
              "      <td>0</td>\n",
              "    </tr>\n",
              "    <tr>\n",
              "      <th>2</th>\n",
              "      <td>3</td>\n",
              "      <td>2.135</td>\n",
              "      <td>1</td>\n",
              "      <td>0</td>\n",
              "    </tr>\n",
              "    <tr>\n",
              "      <th>3</th>\n",
              "      <td>4</td>\n",
              "      <td>3.924</td>\n",
              "      <td>0</td>\n",
              "      <td>0</td>\n",
              "    </tr>\n",
              "    <tr>\n",
              "      <th>4</th>\n",
              "      <td>5</td>\n",
              "      <td>2.528</td>\n",
              "      <td>1</td>\n",
              "      <td>0</td>\n",
              "    </tr>\n",
              "  </tbody>\n",
              "</table>\n",
              "</div>"
            ],
            "text/plain": [
              "   Customer  Spending  Card  Coupon\n",
              "0         1     2.291     1       0\n",
              "1         2     3.215     1       0\n",
              "2         3     2.135     1       0\n",
              "3         4     3.924     0       0\n",
              "4         5     2.528     1       0"
            ]
          },
          "metadata": {
            "tags": []
          },
          "execution_count": 91
        }
      ]
    },
    {
      "cell_type": "code",
      "metadata": {
        "id": "70coWX6DWAHH",
        "colab_type": "code",
        "outputId": "9f60f775-9ce2-450a-ae74-23e648e20d76",
        "colab": {
          "base_uri": "https://localhost:8080/",
          "height": 277
        }
      },
      "source": [
        "data.describe()"
      ],
      "execution_count": 92,
      "outputs": [
        {
          "output_type": "execute_result",
          "data": {
            "text/html": [
              "<div>\n",
              "<style scoped>\n",
              "    .dataframe tbody tr th:only-of-type {\n",
              "        vertical-align: middle;\n",
              "    }\n",
              "\n",
              "    .dataframe tbody tr th {\n",
              "        vertical-align: top;\n",
              "    }\n",
              "\n",
              "    .dataframe thead th {\n",
              "        text-align: right;\n",
              "    }\n",
              "</style>\n",
              "<table border=\"1\" class=\"dataframe\">\n",
              "  <thead>\n",
              "    <tr style=\"text-align: right;\">\n",
              "      <th></th>\n",
              "      <th>Customer</th>\n",
              "      <th>Spending</th>\n",
              "      <th>Card</th>\n",
              "      <th>Coupon</th>\n",
              "    </tr>\n",
              "  </thead>\n",
              "  <tbody>\n",
              "    <tr>\n",
              "      <th>count</th>\n",
              "      <td>100.000000</td>\n",
              "      <td>100.000000</td>\n",
              "      <td>100.000000</td>\n",
              "      <td>100.000000</td>\n",
              "    </tr>\n",
              "    <tr>\n",
              "      <th>mean</th>\n",
              "      <td>50.500000</td>\n",
              "      <td>3.333790</td>\n",
              "      <td>0.500000</td>\n",
              "      <td>0.400000</td>\n",
              "    </tr>\n",
              "    <tr>\n",
              "      <th>std</th>\n",
              "      <td>29.011492</td>\n",
              "      <td>1.741298</td>\n",
              "      <td>0.502519</td>\n",
              "      <td>0.492366</td>\n",
              "    </tr>\n",
              "    <tr>\n",
              "      <th>min</th>\n",
              "      <td>1.000000</td>\n",
              "      <td>1.058000</td>\n",
              "      <td>0.000000</td>\n",
              "      <td>0.000000</td>\n",
              "    </tr>\n",
              "    <tr>\n",
              "      <th>25%</th>\n",
              "      <td>25.750000</td>\n",
              "      <td>2.059000</td>\n",
              "      <td>0.000000</td>\n",
              "      <td>0.000000</td>\n",
              "    </tr>\n",
              "    <tr>\n",
              "      <th>50%</th>\n",
              "      <td>50.500000</td>\n",
              "      <td>2.805500</td>\n",
              "      <td>0.500000</td>\n",
              "      <td>0.000000</td>\n",
              "    </tr>\n",
              "    <tr>\n",
              "      <th>75%</th>\n",
              "      <td>75.250000</td>\n",
              "      <td>4.468250</td>\n",
              "      <td>1.000000</td>\n",
              "      <td>1.000000</td>\n",
              "    </tr>\n",
              "    <tr>\n",
              "      <th>max</th>\n",
              "      <td>100.000000</td>\n",
              "      <td>7.076000</td>\n",
              "      <td>1.000000</td>\n",
              "      <td>1.000000</td>\n",
              "    </tr>\n",
              "  </tbody>\n",
              "</table>\n",
              "</div>"
            ],
            "text/plain": [
              "         Customer    Spending        Card      Coupon\n",
              "count  100.000000  100.000000  100.000000  100.000000\n",
              "mean    50.500000    3.333790    0.500000    0.400000\n",
              "std     29.011492    1.741298    0.502519    0.492366\n",
              "min      1.000000    1.058000    0.000000    0.000000\n",
              "25%     25.750000    2.059000    0.000000    0.000000\n",
              "50%     50.500000    2.805500    0.500000    0.000000\n",
              "75%     75.250000    4.468250    1.000000    1.000000\n",
              "max    100.000000    7.076000    1.000000    1.000000"
            ]
          },
          "metadata": {
            "tags": []
          },
          "execution_count": 92
        }
      ]
    },
    {
      "cell_type": "code",
      "metadata": {
        "id": "PnVzIpGgWH1B",
        "colab_type": "code",
        "outputId": "8a1c6ed2-33b0-4e9c-9e06-479464fefce8",
        "colab": {
          "base_uri": "https://localhost:8080/",
          "height": 33
        }
      },
      "source": [
        "data['Coupon'].unique()"
      ],
      "execution_count": 93,
      "outputs": [
        {
          "output_type": "execute_result",
          "data": {
            "text/plain": [
              "array([0, 1])"
            ]
          },
          "metadata": {
            "tags": []
          },
          "execution_count": 93
        }
      ]
    },
    {
      "cell_type": "code",
      "metadata": {
        "id": "JVDh5IN8X-QY",
        "colab_type": "code",
        "outputId": "900f30a2-6960-4413-b699-01a0f60d435c",
        "colab": {
          "base_uri": "https://localhost:8080/",
          "height": 66
        }
      },
      "source": [
        "data['Coupon'].value_counts()"
      ],
      "execution_count": 94,
      "outputs": [
        {
          "output_type": "execute_result",
          "data": {
            "text/plain": [
              "0    60\n",
              "1    40\n",
              "Name: Coupon, dtype: int64"
            ]
          },
          "metadata": {
            "tags": []
          },
          "execution_count": 94
        }
      ]
    },
    {
      "cell_type": "code",
      "metadata": {
        "id": "D7FIieCzYFKK",
        "colab_type": "code",
        "colab": {}
      },
      "source": [
        "from sklearn import linear_model\n",
        "from sklearn.model_selection import train_test_split\n",
        "from sklearn.linear_model import LogisticRegression"
      ],
      "execution_count": 0,
      "outputs": []
    },
    {
      "cell_type": "code",
      "metadata": {
        "id": "xR_CoIsoYaFp",
        "colab_type": "code",
        "colab": {}
      },
      "source": [
        "x=data[['Card','Spending']]\n",
        "y=data['Coupon'].values.reshape(-1,1)\n",
        "x_train,x_test,y_train,y_test=train_test_split(x,y,test_size=0.25,random_state=42)"
      ],
      "execution_count": 0,
      "outputs": []
    },
    {
      "cell_type": "code",
      "metadata": {
        "id": "ONXoaL0WY5jR",
        "colab_type": "code",
        "outputId": "90d092df-c9ef-4e6a-a49b-6dfbe8c36cd7",
        "colab": {
          "base_uri": "https://localhost:8080/",
          "height": 33
        }
      },
      "source": [
        " len(x_train),len(y_train),len(x_test),len(y_test)"
      ],
      "execution_count": 97,
      "outputs": [
        {
          "output_type": "execute_result",
          "data": {
            "text/plain": [
              "(75, 75, 25, 25)"
            ]
          },
          "metadata": {
            "tags": []
          },
          "execution_count": 97
        }
      ]
    },
    {
      "cell_type": "code",
      "metadata": {
        "id": "sjPJsolAZpNN",
        "colab_type": "code",
        "outputId": "99ab2c46-89cf-4182-9242-5c8b544e7f30",
        "colab": {
          "base_uri": "https://localhost:8080/",
          "height": 98
        }
      },
      "source": [
        "Lreg=LogisticRegression(solver='lbfgs')\n",
        "Lreg.fit(x_train,y_train.ravel())"
      ],
      "execution_count": 98,
      "outputs": [
        {
          "output_type": "execute_result",
          "data": {
            "text/plain": [
              "LogisticRegression(C=1.0, class_weight=None, dual=False, fit_intercept=True,\n",
              "                   intercept_scaling=1, l1_ratio=None, max_iter=100,\n",
              "                   multi_class='auto', n_jobs=None, penalty='l2',\n",
              "                   random_state=None, solver='lbfgs', tol=0.0001, verbose=0,\n",
              "                   warm_start=False)"
            ]
          },
          "metadata": {
            "tags": []
          },
          "execution_count": 98
        }
      ]
    },
    {
      "cell_type": "code",
      "metadata": {
        "id": "JRglyU9pZ7Ae",
        "colab_type": "code",
        "outputId": "5c66b79c-ce15-4daa-cd42-d12ba5479421",
        "colab": {
          "base_uri": "https://localhost:8080/",
          "height": 50
        }
      },
      "source": [
        "y_predict_test=Lreg.predict(x_test)\n",
        "y_predict_test"
      ],
      "execution_count": 99,
      "outputs": [
        {
          "output_type": "execute_result",
          "data": {
            "text/plain": [
              "array([1, 0, 0, 0, 0, 0, 0, 1, 0, 0, 0, 0, 0, 0, 0, 0, 0, 1, 0, 0, 0, 1,\n",
              "       1, 0, 0])"
            ]
          },
          "metadata": {
            "tags": []
          },
          "execution_count": 99
        }
      ]
    },
    {
      "cell_type": "code",
      "metadata": {
        "id": "bChpK1J6aGpK",
        "colab_type": "code",
        "outputId": "fba1fe4e-281d-40a6-9e4d-df7f07436860",
        "colab": {
          "base_uri": "https://localhost:8080/",
          "height": 82
        }
      },
      "source": [
        "y_predict_train=Lreg.predict(x_train)\n",
        "y_predict_train"
      ],
      "execution_count": 100,
      "outputs": [
        {
          "output_type": "execute_result",
          "data": {
            "text/plain": [
              "array([0, 0, 0, 0, 0, 0, 0, 1, 0, 1, 0, 0, 1, 0, 0, 1, 0, 1, 0, 0, 0, 1,\n",
              "       0, 0, 0, 0, 0, 0, 0, 0, 0, 0, 0, 0, 1, 0, 0, 0, 0, 0, 0, 0, 0, 0,\n",
              "       0, 0, 0, 0, 1, 0, 0, 0, 1, 0, 0, 0, 0, 1, 0, 0, 0, 0, 0, 0, 0, 0,\n",
              "       1, 1, 0, 0, 0, 0, 1, 1, 0])"
            ]
          },
          "metadata": {
            "tags": []
          },
          "execution_count": 100
        }
      ]
    },
    {
      "cell_type": "code",
      "metadata": {
        "id": "a2Kq5h-vaVfQ",
        "colab_type": "code",
        "outputId": "c96c13d2-215e-451a-dfa9-31874afe445a",
        "colab": {
          "base_uri": "https://localhost:8080/",
          "height": 261
        }
      },
      "source": [
        "y_prob_train=Lreg.predict_proba(x_train)[:,1]\n",
        "y_prob_train.reshape(1,-1)"
      ],
      "execution_count": 101,
      "outputs": [
        {
          "output_type": "execute_result",
          "data": {
            "text/plain": [
              "array([[0.49622117, 0.32880793, 0.44329114, 0.33320924, 0.41456465,\n",
              "        0.32890329, 0.3975043 , 0.66921229, 0.25844531, 0.63672372,\n",
              "        0.29274386, 0.28466974, 0.5159296 , 0.41992276, 0.24342356,\n",
              "        0.528514  , 0.47965107, 0.52805789, 0.33191449, 0.27457435,\n",
              "        0.49179296, 0.63261616, 0.24690181, 0.47089452, 0.27842076,\n",
              "        0.41663875, 0.36155602, 0.49970327, 0.23621636, 0.37860052,\n",
              "        0.48809323, 0.28877877, 0.28563859, 0.37231882, 0.65309742,\n",
              "        0.43807264, 0.33638478, 0.40406607, 0.23431177, 0.37282384,\n",
              "        0.49970327, 0.39768396, 0.32880793, 0.25782472, 0.47393834,\n",
              "        0.42878861, 0.26520939, 0.33320924, 0.54682499, 0.45446086,\n",
              "        0.44326597, 0.4965167 , 0.60065954, 0.38989654, 0.49149447,\n",
              "        0.27414424, 0.27785686, 0.67464141, 0.28195004, 0.48593427,\n",
              "        0.38633222, 0.31373499, 0.42810085, 0.27418723, 0.44371771,\n",
              "        0.41629601, 0.642004  , 0.6571001 , 0.44068025, 0.28195004,\n",
              "        0.40217015, 0.43807264, 0.50977653, 0.57944626, 0.2904233 ]])"
            ]
          },
          "metadata": {
            "tags": []
          },
          "execution_count": 101
        }
      ]
    },
    {
      "cell_type": "code",
      "metadata": {
        "id": "DOViGzkba992",
        "colab_type": "code",
        "outputId": "e72bde34-82af-450e-ff85-af9103bf6b4f",
        "colab": {
          "base_uri": "https://localhost:8080/",
          "height": 98
        }
      },
      "source": [
        "y_prob_test=Lreg.predict_proba(x_test)[:,1]\n",
        "y_prob_test.reshape(1,-1)"
      ],
      "execution_count": 102,
      "outputs": [
        {
          "output_type": "execute_result",
          "data": {
            "text/plain": [
              "array([[0.52802946, 0.49516653, 0.45703306, 0.27712052, 0.34390047,\n",
              "        0.26825171, 0.27712052, 0.607686  , 0.42836534, 0.43637155,\n",
              "        0.31387455, 0.23676248, 0.45703306, 0.43602768, 0.37596116,\n",
              "        0.44900317, 0.46952365, 0.68521935, 0.25167254, 0.47073304,\n",
              "        0.42361093, 0.56580644, 0.52792177, 0.40302605, 0.27457435]])"
            ]
          },
          "metadata": {
            "tags": []
          },
          "execution_count": 102
        }
      ]
    },
    {
      "cell_type": "code",
      "metadata": {
        "id": "06TlLrfqbHdp",
        "colab_type": "code",
        "outputId": "2bba6b2a-bc25-4498-93cb-04e65216425e",
        "colab": {
          "base_uri": "https://localhost:8080/",
          "height": 310
        }
      },
      "source": [
        "import statsmodels.api as sm\n",
        "x1=sm.add_constant(x)\n",
        "logit_model=sm.Logit(y,x1).fit()\n",
        "logit_model.summary()"
      ],
      "execution_count": 103,
      "outputs": [
        {
          "output_type": "stream",
          "text": [
            "Optimization terminated successfully.\n",
            "         Current function value: 0.604869\n",
            "         Iterations 5\n"
          ],
          "name": "stdout"
        },
        {
          "output_type": "stream",
          "text": [
            "/usr/local/lib/python3.6/dist-packages/numpy/core/fromnumeric.py:2495: FutureWarning: Method .ptp is deprecated and will be removed in a future version. Use numpy.ptp instead.\n",
            "  return ptp(axis=axis, out=out, **kwargs)\n"
          ],
          "name": "stderr"
        },
        {
          "output_type": "execute_result",
          "data": {
            "text/html": [
              "<table class=\"simpletable\">\n",
              "<caption>Logit Regression Results</caption>\n",
              "<tr>\n",
              "  <th>Dep. Variable:</th>           <td>y</td>        <th>  No. Observations:  </th>  <td>   100</td> \n",
              "</tr>\n",
              "<tr>\n",
              "  <th>Model:</th>                 <td>Logit</td>      <th>  Df Residuals:      </th>  <td>    97</td> \n",
              "</tr>\n",
              "<tr>\n",
              "  <th>Method:</th>                 <td>MLE</td>       <th>  Df Model:          </th>  <td>     2</td> \n",
              "</tr>\n",
              "<tr>\n",
              "  <th>Date:</th>            <td>Sat, 14 Mar 2020</td> <th>  Pseudo R-squ.:     </th>  <td>0.1012</td> \n",
              "</tr>\n",
              "<tr>\n",
              "  <th>Time:</th>                <td>08:12:43</td>     <th>  Log-Likelihood:    </th> <td> -60.487</td>\n",
              "</tr>\n",
              "<tr>\n",
              "  <th>converged:</th>             <td>True</td>       <th>  LL-Null:           </th> <td> -67.301</td>\n",
              "</tr>\n",
              "<tr>\n",
              "  <th>Covariance Type:</th>     <td>nonrobust</td>    <th>  LLR p-value:       </th> <td>0.001098</td>\n",
              "</tr>\n",
              "</table>\n",
              "<table class=\"simpletable\">\n",
              "<tr>\n",
              "      <td></td>        <th>coef</th>     <th>std err</th>      <th>z</th>      <th>P>|z|</th>  <th>[0.025</th>    <th>0.975]</th>  \n",
              "</tr>\n",
              "<tr>\n",
              "  <th>const</th>    <td>   -2.1464</td> <td>    0.577</td> <td>   -3.718</td> <td> 0.000</td> <td>   -3.278</td> <td>   -1.015</td>\n",
              "</tr>\n",
              "<tr>\n",
              "  <th>Card</th>     <td>    1.0987</td> <td>    0.445</td> <td>    2.471</td> <td> 0.013</td> <td>    0.227</td> <td>    1.970</td>\n",
              "</tr>\n",
              "<tr>\n",
              "  <th>Spending</th> <td>    0.3416</td> <td>    0.129</td> <td>    2.655</td> <td> 0.008</td> <td>    0.089</td> <td>    0.594</td>\n",
              "</tr>\n",
              "</table>"
            ],
            "text/plain": [
              "<class 'statsmodels.iolib.summary.Summary'>\n",
              "\"\"\"\n",
              "                           Logit Regression Results                           \n",
              "==============================================================================\n",
              "Dep. Variable:                      y   No. Observations:                  100\n",
              "Model:                          Logit   Df Residuals:                       97\n",
              "Method:                           MLE   Df Model:                            2\n",
              "Date:                Sat, 14 Mar 2020   Pseudo R-squ.:                  0.1012\n",
              "Time:                        08:12:43   Log-Likelihood:                -60.487\n",
              "converged:                       True   LL-Null:                       -67.301\n",
              "Covariance Type:            nonrobust   LLR p-value:                  0.001098\n",
              "==============================================================================\n",
              "                 coef    std err          z      P>|z|      [0.025      0.975]\n",
              "------------------------------------------------------------------------------\n",
              "const         -2.1464      0.577     -3.718      0.000      -3.278      -1.015\n",
              "Card           1.0987      0.445      2.471      0.013       0.227       1.970\n",
              "Spending       0.3416      0.129      2.655      0.008       0.089       0.594\n",
              "==============================================================================\n",
              "\"\"\""
            ]
          },
          "metadata": {
            "tags": []
          },
          "execution_count": 103
        }
      ]
    },
    {
      "cell_type": "code",
      "metadata": {
        "id": "UEjnKoCublM7",
        "colab_type": "code",
        "outputId": "c9d3a4d5-9d72-465e-a4cb-30d29f9b72cf",
        "colab": {
          "base_uri": "https://localhost:8080/",
          "height": 33
        }
      },
      "source": [
        "from sklearn.metrics import accuracy_score\n",
        "score=accuracy_score(y_test,y_predict)\n",
        "score"
      ],
      "execution_count": 104,
      "outputs": [
        {
          "output_type": "execute_result",
          "data": {
            "text/plain": [
              "0.76"
            ]
          },
          "metadata": {
            "tags": []
          },
          "execution_count": 104
        }
      ]
    },
    {
      "cell_type": "code",
      "metadata": {
        "id": "rQY_Me28cEe0",
        "colab_type": "code",
        "outputId": "4ab52780-de67-4ea9-dfc6-733427b7254f",
        "colab": {
          "base_uri": "https://localhost:8080/",
          "height": 50
        }
      },
      "source": [
        "from sklearn.metrics import confusion_matrix\n",
        "confusion_matrix(y_test,y_predict)"
      ],
      "execution_count": 105,
      "outputs": [
        {
          "output_type": "execute_result",
          "data": {
            "text/plain": [
              "array([[15,  1],\n",
              "       [ 5,  4]])"
            ]
          },
          "metadata": {
            "tags": []
          },
          "execution_count": 105
        }
      ]
    },
    {
      "cell_type": "code",
      "metadata": {
        "id": "6fekZsGscdwd",
        "colab_type": "code",
        "outputId": "8fd60578-fe29-4981-c3d2-1231dbb60d79",
        "colab": {
          "base_uri": "https://localhost:8080/",
          "height": 82
        }
      },
      "source": [
        "tn,fp,fn,tp=confusion_matrix(y_test,y_predict).ravel()\n",
        "print('TRUE NEGATIVE: ',tn)\n",
        "print('FALSE POSITIVE: ',fp)\n",
        "print('FALSE NEGATIVE: ',fn)\n",
        "print('TRUE POSITIVE: ',tp)"
      ],
      "execution_count": 106,
      "outputs": [
        {
          "output_type": "stream",
          "text": [
            "TRUE NEGATIVE:  15\n",
            "FALSE POSITIVE:  1\n",
            "FALSE NEGATIVE:  5\n",
            "TRUE POSITIVE:  4\n"
          ],
          "name": "stdout"
        }
      ]
    },
    {
      "cell_type": "code",
      "metadata": {
        "id": "PTN80j1AdQld",
        "colab_type": "code",
        "outputId": "067799a5-e3a3-43dc-ca25-05a7a4e2370f",
        "colab": {
          "base_uri": "https://localhost:8080/",
          "height": 163
        }
      },
      "source": [
        "from sklearn.metrics import classification_report\n",
        "print(classification_report(y_test,y_predict))"
      ],
      "execution_count": 107,
      "outputs": [
        {
          "output_type": "stream",
          "text": [
            "              precision    recall  f1-score   support\n",
            "\n",
            "           0       0.75      0.94      0.83        16\n",
            "           1       0.80      0.44      0.57         9\n",
            "\n",
            "    accuracy                           0.76        25\n",
            "   macro avg       0.78      0.69      0.70        25\n",
            "weighted avg       0.77      0.76      0.74        25\n",
            "\n"
          ],
          "name": "stdout"
        }
      ]
    },
    {
      "cell_type": "code",
      "metadata": {
        "id": "PmCnWVEodk2q",
        "colab_type": "code",
        "outputId": "1b24ab69-5a8d-491c-c2da-248e2ebc7e39",
        "colab": {
          "base_uri": "https://localhost:8080/",
          "height": 33
        }
      },
      "source": [
        "Accuracy=(tp+tn)/(tp+tn+fp+fn)\n",
        "print(\"Accuracy {:0.2f}\".format(Accuracy))"
      ],
      "execution_count": 108,
      "outputs": [
        {
          "output_type": "stream",
          "text": [
            "Accuracy 0.76\n"
          ],
          "name": "stdout"
        }
      ]
    },
    {
      "cell_type": "code",
      "metadata": {
        "id": "MW3LU2u11gaU",
        "colab_type": "code",
        "colab": {
          "base_uri": "https://localhost:8080/",
          "height": 33
        },
        "outputId": "6426a166-2332-4230-d13c-ac428f4ca8ab"
      },
      "source": [
        "Specifity=tn/(tn+fp)\n",
        "print(\"Specifity {:0.2f}\".format(Specifity))"
      ],
      "execution_count": 109,
      "outputs": [
        {
          "output_type": "stream",
          "text": [
            "Specifity 0.94\n"
          ],
          "name": "stdout"
        }
      ]
    },
    {
      "cell_type": "code",
      "metadata": {
        "id": "TGZbu7S2CHfe",
        "colab_type": "code",
        "colab": {
          "base_uri": "https://localhost:8080/",
          "height": 33
        },
        "outputId": "61719fc9-42b5-4acb-d565-104c9f2d35a1"
      },
      "source": [
        "Sensitivity=tp/(tp+fn)\n",
        "print(\"Sensitivity {:0.2f}\".format(Sensitivity))"
      ],
      "execution_count": 110,
      "outputs": [
        {
          "output_type": "stream",
          "text": [
            "Sensitivity 0.44\n"
          ],
          "name": "stdout"
        }
      ]
    },
    {
      "cell_type": "markdown",
      "metadata": {
        "id": "96n9uEvpL9bJ",
        "colab_type": "text"
      },
      "source": [
        "**FOR TRAIN**"
      ]
    },
    {
      "cell_type": "code",
      "metadata": {
        "id": "xJR17UeHCP0q",
        "colab_type": "code",
        "colab": {}
      },
      "source": [
        "from sklearn.metrics import roc_auc_score\n",
        "from sklearn.metrics import roc_curve,auc\n",
        "log_ROC_AUC1=roc_auc_score(y_train,y_predict_train)\n",
        "fpr1,tpr1,thresholds1=roc_curve(y_train,y_prob_train)\n",
        "roc_auc1=auc(fpr1,tpr1)"
      ],
      "execution_count": 0,
      "outputs": []
    },
    {
      "cell_type": "code",
      "metadata": {
        "id": "JI1Xorc-C9J6",
        "colab_type": "code",
        "colab": {
          "base_uri": "https://localhost:8080/",
          "height": 295
        },
        "outputId": "fc07e1e1-0d4d-4b95-b543-6c530ef84b62"
      },
      "source": [
        "plt.figure()\n",
        "plt.plot(fpr1,tpr1,color='blue',label='ROC curve (area=%0.2f)'% roc_auc1)\n",
        "plt.plot([0,1],[0,1],'r--')\n",
        "plt.xlim([0.0,1.0])\n",
        "plt.ylim([0.0,1.05])\n",
        "plt.xlabel('FALSE POSITIVE RATE')\n",
        "plt.ylabel('TRUE POSITIVE RATE')\n",
        "plt.title('RECIEVER OPERATING CHARACTRISTIC EXAMPLE')\n",
        "plt.legend(loc=\"lower right\")\n",
        "plt.show()"
      ],
      "execution_count": 112,
      "outputs": [
        {
          "output_type": "display_data",
          "data": {
            "image/png": "[encoded data removed]",
            "text/plain": [
              "<Figure size 432x288 with 1 Axes>"
            ]
          },
          "metadata": {
            "tags": []
          }
        }
      ]
    },
    {
      "cell_type": "code",
      "metadata": {
        "id": "snpF31CwEFgJ",
        "colab_type": "code",
        "colab": {}
      },
      "source": [
        "log_ROC_AUC1=roc_auc_score(y_test,y_predict_test)\n",
        "fpr1,tpr1,thresholds1=roc_curve(y_test,y_prob_test)\n",
        "roc_auc1=auc(fpr1,tpr1)"
      ],
      "execution_count": 0,
      "outputs": []
    },
    {
      "cell_type": "markdown",
      "metadata": {
        "id": "xqbnVSWWMDUM",
        "colab_type": "text"
      },
      "source": [
        "**FOR TEST**"
      ]
    },
    {
      "cell_type": "code",
      "metadata": {
        "id": "vVIaoZolGntA",
        "colab_type": "code",
        "colab": {
          "base_uri": "https://localhost:8080/",
          "height": 295
        },
        "outputId": "17b24888-4430-46d4-e005-b020b2e5d862"
      },
      "source": [
        "plt.figure()\n",
        "plt.plot(fpr1,tpr1,color='blue',label='ROC curve (area=%0.2f)'% roc_auc1)\n",
        "plt.plot([0,1],[0,1],'r--')\n",
        "plt.xlim([0.0,1.0])\n",
        "plt.ylim([0.0,1.05])\n",
        "plt.xlabel('FALSE POSITIVE RATE')\n",
        "plt.ylabel('TRUE POSITIVE RATE')\n",
        "plt.title('RECIEVER OPERATING CHARACTRISTIC EXAMPLE')\n",
        "plt.legend(loc=\"lower right\")\n",
        "plt.show()"
      ],
      "execution_count": 116,
      "outputs": [
        {
          "output_type": "display_data",
          "data": {
            "image/png": "[encoded data removed]",
            "text/plain": [
              "<Figure size 432x288 with 1 Axes>"
            ]
          },
          "metadata": {
            "tags": []
          }
        }
      ]
    },
    {
      "cell_type": "markdown",
      "metadata": {
        "id": "W4k9hywyMMDn",
        "colab_type": "text"
      },
      "source": [
        "**FOR 0.35**"
      ]
    },
    {
      "cell_type": "code",
      "metadata": {
        "id": "5vaBlyJ5GrWz",
        "colab_type": "code",
        "colab": {
          "base_uri": "https://localhost:8080/",
          "height": 50
        },
        "outputId": "3335de8a-c9fd-451a-b8d8-5f8ef3653671"
      },
      "source": [
        "from sklearn.preprocessing import binarize\n",
        "y_predict_test_class1=binarize(y_prob_test.reshape(1,-1),0.35)[0]\n",
        "y_predict_test_class1"
      ],
      "execution_count": 120,
      "outputs": [
        {
          "output_type": "execute_result",
          "data": {
            "text/plain": [
              "array([1., 1., 1., 0., 0., 0., 0., 1., 1., 1., 0., 0., 1., 1., 1., 1., 1.,\n",
              "       1., 0., 1., 1., 1., 1., 1., 0.])"
            ]
          },
          "metadata": {
            "tags": []
          },
          "execution_count": 120
        }
      ]
    },
    {
      "cell_type": "code",
      "metadata": {
        "id": "ZrHy_M8wHQsl",
        "colab_type": "code",
        "colab": {
          "base_uri": "https://localhost:8080/",
          "height": 50
        },
        "outputId": "94f90d2f-c5b4-4cda-ed20-61594c825b26"
      },
      "source": [
        "y_predict_test_class1=y_predict_test_class1.astype(int)\n",
        "y_predict_test_class1"
      ],
      "execution_count": 121,
      "outputs": [
        {
          "output_type": "execute_result",
          "data": {
            "text/plain": [
              "array([1, 1, 1, 0, 0, 0, 0, 1, 1, 1, 0, 0, 1, 1, 1, 1, 1, 1, 0, 1, 1, 1,\n",
              "       1, 1, 0])"
            ]
          },
          "metadata": {
            "tags": []
          },
          "execution_count": 121
        }
      ]
    },
    {
      "cell_type": "code",
      "metadata": {
        "id": "70JMXLxRJbMh",
        "colab_type": "code",
        "colab": {
          "base_uri": "https://localhost:8080/",
          "height": 50
        },
        "outputId": "d605b5b3-26ce-49dd-e915-0d27d835ca54"
      },
      "source": [
        "confusion_matrix_1=confusion_matrix(y_test,y_predict_test_class1)\n",
        "confusion_matrix_1"
      ],
      "execution_count": 163,
      "outputs": [
        {
          "output_type": "execute_result",
          "data": {
            "text/plain": [
              "array([[8, 8],\n",
              "       [0, 9]])"
            ]
          },
          "metadata": {
            "tags": []
          },
          "execution_count": 163
        }
      ]
    },
    {
      "cell_type": "code",
      "metadata": {
        "id": "NFG7j5g2JnyI",
        "colab_type": "code",
        "colab": {
          "base_uri": "https://localhost:8080/",
          "height": 82
        },
        "outputId": "971380b4-f0cb-4019-c6db-bc4931601380"
      },
      "source": [
        "tn,fp,fn,tp=confusion_matrix(y_test,y_predict_test_class1).ravel()\n",
        "print('TRUE NEGATIVE: ',tn)\n",
        "print('FALSE POSITIVE: ',fp)\n",
        "print('FALSE NEGATIVE: ',fn)\n",
        "print('TRUE POSITIVE: ',tp)"
      ],
      "execution_count": 164,
      "outputs": [
        {
          "output_type": "stream",
          "text": [
            "TRUE NEGATIVE:  8\n",
            "FALSE POSITIVE:  8\n",
            "FALSE NEGATIVE:  0\n",
            "TRUE POSITIVE:  9\n"
          ],
          "name": "stdout"
        }
      ]
    },
    {
      "cell_type": "code",
      "metadata": {
        "id": "x0kzHrwUJ7Zm",
        "colab_type": "code",
        "colab": {
          "base_uri": "https://localhost:8080/",
          "height": 163
        },
        "outputId": "21150650-9e05-4e51-c0ac-f9d6efc55c1b"
      },
      "source": [
        "from sklearn.metrics import classification_report\n",
        "print(classification_report(y_test,y_predict_test_class1))"
      ],
      "execution_count": 125,
      "outputs": [
        {
          "output_type": "stream",
          "text": [
            "              precision    recall  f1-score   support\n",
            "\n",
            "           0       1.00      0.50      0.67        16\n",
            "           1       0.53      1.00      0.69         9\n",
            "\n",
            "    accuracy                           0.68        25\n",
            "   macro avg       0.76      0.75      0.68        25\n",
            "weighted avg       0.83      0.68      0.68        25\n",
            "\n"
          ],
          "name": "stdout"
        }
      ]
    },
    {
      "cell_type": "code",
      "metadata": {
        "id": "8xf3TRPDKAGd",
        "colab_type": "code",
        "colab": {
          "base_uri": "https://localhost:8080/",
          "height": 50
        },
        "outputId": "bd501f1e-771d-4fb8-dae9-75c3e578bc00"
      },
      "source": [
        "y_predict_test_class2=binarize(y_prob_test.reshape(1,-1),0.50)[0]\n",
        "y_predict_test_class2"
      ],
      "execution_count": 128,
      "outputs": [
        {
          "output_type": "execute_result",
          "data": {
            "text/plain": [
              "array([1., 0., 0., 0., 0., 0., 0., 1., 0., 0., 0., 0., 0., 0., 0., 0., 0.,\n",
              "       1., 0., 0., 0., 1., 1., 0., 0.])"
            ]
          },
          "metadata": {
            "tags": []
          },
          "execution_count": 128
        }
      ]
    },
    {
      "cell_type": "markdown",
      "metadata": {
        "id": "2sL9qTO3MYdO",
        "colab_type": "text"
      },
      "source": [
        "**FOR 0.50**"
      ]
    },
    {
      "cell_type": "code",
      "metadata": {
        "id": "NpG5OhyhKN60",
        "colab_type": "code",
        "colab": {
          "base_uri": "https://localhost:8080/",
          "height": 50
        },
        "outputId": "f49bd91c-7e06-43f9-dc07-fcf52d196dd9"
      },
      "source": [
        "y_predict_test_class2=y_predict_test_class2.astype(int)\n",
        "y_predict_test_class2"
      ],
      "execution_count": 129,
      "outputs": [
        {
          "output_type": "execute_result",
          "data": {
            "text/plain": [
              "array([1, 0, 0, 0, 0, 0, 0, 1, 0, 0, 0, 0, 0, 0, 0, 0, 0, 1, 0, 0, 0, 1,\n",
              "       1, 0, 0])"
            ]
          },
          "metadata": {
            "tags": []
          },
          "execution_count": 129
        }
      ]
    },
    {
      "cell_type": "code",
      "metadata": {
        "id": "95KipQPjKV25",
        "colab_type": "code",
        "colab": {
          "base_uri": "https://localhost:8080/",
          "height": 50
        },
        "outputId": "cad35624-573b-4754-b431-285c4cf1e376"
      },
      "source": [
        "confusion_matrix_2=confusion_matrix(y_test,y_predict_test_class2)\n",
        "confusion_matrix_2"
      ],
      "execution_count": 165,
      "outputs": [
        {
          "output_type": "execute_result",
          "data": {
            "text/plain": [
              "array([[15,  1],\n",
              "       [ 5,  4]])"
            ]
          },
          "metadata": {
            "tags": []
          },
          "execution_count": 165
        }
      ]
    },
    {
      "cell_type": "code",
      "metadata": {
        "id": "nlhJRh2bSViA",
        "colab_type": "code",
        "colab": {
          "base_uri": "https://localhost:8080/",
          "height": 82
        },
        "outputId": "a314d227-10e5-4e82-c265-8d0944de9b12"
      },
      "source": [
        "tn,fp,fn,tp=confusion_matrix(y_test,y_predict_test_class2).ravel()\n",
        "print('TRUE NEGATIVE: ',tn)\n",
        "print('FALSE POSITIVE: ',fp)\n",
        "print('FALSE NEGATIVE: ',fn)\n",
        "print('TRUE POSITIVE: ',tp)"
      ],
      "execution_count": 160,
      "outputs": [
        {
          "output_type": "stream",
          "text": [
            "TRUE NEGATIVE:  15\n",
            "FALSE POSITIVE:  1\n",
            "FALSE NEGATIVE:  5\n",
            "TRUE POSITIVE:  4\n"
          ],
          "name": "stdout"
        }
      ]
    },
    {
      "cell_type": "code",
      "metadata": {
        "id": "gg9hvFCtKoYl",
        "colab_type": "code",
        "colab": {
          "base_uri": "https://localhost:8080/",
          "height": 163
        },
        "outputId": "07564f66-8a1f-42dc-9654-2c37f99c7825"
      },
      "source": [
        "from sklearn.metrics import classification_report\n",
        "print(classification_report(y_test,y_predict_test_class2))"
      ],
      "execution_count": 131,
      "outputs": [
        {
          "output_type": "stream",
          "text": [
            "              precision    recall  f1-score   support\n",
            "\n",
            "           0       0.75      0.94      0.83        16\n",
            "           1       0.80      0.44      0.57         9\n",
            "\n",
            "    accuracy                           0.76        25\n",
            "   macro avg       0.78      0.69      0.70        25\n",
            "weighted avg       0.77      0.76      0.74        25\n",
            "\n"
          ],
          "name": "stdout"
        }
      ]
    },
    {
      "cell_type": "markdown",
      "metadata": {
        "id": "V2UzKke-Mlh_",
        "colab_type": "text"
      },
      "source": [
        "**FOR 0.70**"
      ]
    },
    {
      "cell_type": "code",
      "metadata": {
        "id": "5TwDnFNrKwMF",
        "colab_type": "code",
        "colab": {
          "base_uri": "https://localhost:8080/",
          "height": 50
        },
        "outputId": "b427a8b1-f93f-4598-b634-fe77ab829f9c"
      },
      "source": [
        "y_predict_test_class3=binarize(y_prob_test.reshape(1,-1),0.70)[0]\n",
        "y_predict_test_class3"
      ],
      "execution_count": 142,
      "outputs": [
        {
          "output_type": "execute_result",
          "data": {
            "text/plain": [
              "array([0., 0., 0., 0., 0., 0., 0., 0., 0., 0., 0., 0., 0., 0., 0., 0., 0.,\n",
              "       0., 0., 0., 0., 0., 0., 0., 0.])"
            ]
          },
          "metadata": {
            "tags": []
          },
          "execution_count": 142
        }
      ]
    },
    {
      "cell_type": "code",
      "metadata": {
        "id": "w9twM7sLK3vt",
        "colab_type": "code",
        "colab": {
          "base_uri": "https://localhost:8080/",
          "height": 50
        },
        "outputId": "c2570536-7680-4d2d-b108-2aeff841c56d"
      },
      "source": [
        "y_predict_test_class3=y_predict_test_class3.astype(int)\n",
        "y_predict_test_class3"
      ],
      "execution_count": 143,
      "outputs": [
        {
          "output_type": "execute_result",
          "data": {
            "text/plain": [
              "array([0, 0, 0, 0, 0, 0, 0, 0, 0, 0, 0, 0, 0, 0, 0, 0, 0, 0, 0, 0, 0, 0,\n",
              "       0, 0, 0])"
            ]
          },
          "metadata": {
            "tags": []
          },
          "execution_count": 143
        }
      ]
    },
    {
      "cell_type": "code",
      "metadata": {
        "id": "E79Kf8uSK-9N",
        "colab_type": "code",
        "colab": {
          "base_uri": "https://localhost:8080/",
          "height": 50
        },
        "outputId": "b7307bb7-3a8f-492c-d186-4b64c5c010cc"
      },
      "source": [
        "confusion_matrix_3=confusion_matrix(y_test,y_predict_test_class3)\n",
        "confusion_matrix_3"
      ],
      "execution_count": 166,
      "outputs": [
        {
          "output_type": "execute_result",
          "data": {
            "text/plain": [
              "array([[16,  0],\n",
              "       [ 9,  0]])"
            ]
          },
          "metadata": {
            "tags": []
          },
          "execution_count": 166
        }
      ]
    },
    {
      "cell_type": "code",
      "metadata": {
        "id": "jDeTmkB3Sdqr",
        "colab_type": "code",
        "colab": {
          "base_uri": "https://localhost:8080/",
          "height": 82
        },
        "outputId": "9e8ce05a-0f32-4a25-cf85-db69acc9407b"
      },
      "source": [
        "tn,fp,fn,tp=confusion_matrix(y_test,y_predict_test_class3).ravel()\n",
        "print('TRUE NEGATIVE: ',tn)\n",
        "print('FALSE POSITIVE: ',fp)\n",
        "print('FALSE NEGATIVE: ',fn)\n",
        "print('TRUE POSITIVE: ',tp)"
      ],
      "execution_count": 161,
      "outputs": [
        {
          "output_type": "stream",
          "text": [
            "TRUE NEGATIVE:  16\n",
            "FALSE POSITIVE:  0\n",
            "FALSE NEGATIVE:  9\n",
            "TRUE POSITIVE:  0\n"
          ],
          "name": "stdout"
        }
      ]
    },
    {
      "cell_type": "code",
      "metadata": {
        "id": "Wd4nCd3fLFsX",
        "colab_type": "code",
        "colab": {
          "base_uri": "https://localhost:8080/",
          "height": 216
        },
        "outputId": "0b89448d-4847-4bb2-cd83-600d5f8d843b"
      },
      "source": [
        "from sklearn.metrics import classification_report\n",
        "print(classification_report(y_test,y_predict_test_class3))"
      ],
      "execution_count": 145,
      "outputs": [
        {
          "output_type": "stream",
          "text": [
            "              precision    recall  f1-score   support\n",
            "\n",
            "           0       0.64      1.00      0.78        16\n",
            "           1       0.00      0.00      0.00         9\n",
            "\n",
            "    accuracy                           0.64        25\n",
            "   macro avg       0.32      0.50      0.39        25\n",
            "weighted avg       0.41      0.64      0.50        25\n",
            "\n"
          ],
          "name": "stdout"
        },
        {
          "output_type": "stream",
          "text": [
            "/usr/local/lib/python3.6/dist-packages/sklearn/metrics/_classification.py:1272: UndefinedMetricWarning: Precision and F-score are ill-defined and being set to 0.0 in labels with no predicted samples. Use `zero_division` parameter to control this behavior.\n",
            "  _warn_prf(average, modifier, msg_start, len(result))\n"
          ],
          "name": "stderr"
        }
      ]
    },
    {
      "cell_type": "code",
      "metadata": {
        "id": "llv1EL3RLKCd",
        "colab_type": "code",
        "colab": {}
      },
      "source": [
        "fpr,tpr,thresholds=roc_curve(y_test,y_prob_test)\n",
        "roc_auc=auc(fpr,tpr)"
      ],
      "execution_count": 0,
      "outputs": []
    },
    {
      "cell_type": "code",
      "metadata": {
        "id": "KddzF3dANhG9",
        "colab_type": "code",
        "colab": {
          "base_uri": "https://localhost:8080/",
          "height": 33
        },
        "outputId": "fd9e7d4f-bcc3-4d9c-f5b7-f9547950fd4c"
      },
      "source": [
        "print('Area under curve : %f'%roc_auc)"
      ],
      "execution_count": 148,
      "outputs": [
        {
          "output_type": "stream",
          "text": [
            "Area under curve : 0.902778\n"
          ],
          "name": "stdout"
        }
      ]
    },
    {
      "cell_type": "markdown",
      "metadata": {
        "id": "VQtQrhxPRFUD",
        "colab_type": "text"
      },
      "source": [
        "FIND THRESHOLD"
      ]
    },
    {
      "cell_type": "code",
      "metadata": {
        "id": "c6yYIW9uNpa_",
        "colab_type": "code",
        "colab": {
          "base_uri": "https://localhost:8080/",
          "height": 76
        },
        "outputId": "1639b058-6659-4dc9-a4f8-687745ae17c8"
      },
      "source": [
        "i=np.arange(len(tpr))\n",
        "roc=pd.DataFrame({'fpr' : pd.Series(fpr,index=i),'tpr':pd.Series(tpr,index=i),'1-fpr' :pd.Series(1-fpr,index=i),'tf' : pd.Series(tpr-(1-fpr),index=i),'thresholds':pd.Series(thresholds,index=i)})\n",
        "roc.iloc[(roc.tf-0).abs().argsort()[:1]]"
      ],
      "execution_count": 151,
      "outputs": [
        {
          "output_type": "execute_result",
          "data": {
            "text/html": [
              "<div>\n",
              "<style scoped>\n",
              "    .dataframe tbody tr th:only-of-type {\n",
              "        vertical-align: middle;\n",
              "    }\n",
              "\n",
              "    .dataframe tbody tr th {\n",
              "        vertical-align: top;\n",
              "    }\n",
              "\n",
              "    .dataframe thead th {\n",
              "        text-align: right;\n",
              "    }\n",
              "</style>\n",
              "<table border=\"1\" class=\"dataframe\">\n",
              "  <thead>\n",
              "    <tr style=\"text-align: right;\">\n",
              "      <th></th>\n",
              "      <th>fpr</th>\n",
              "      <th>tpr</th>\n",
              "      <th>1-fpr</th>\n",
              "      <th>tf</th>\n",
              "      <th>thresholds</th>\n",
              "    </tr>\n",
              "  </thead>\n",
              "  <tbody>\n",
              "    <tr>\n",
              "      <th>7</th>\n",
              "      <td>0.125</td>\n",
              "      <td>0.888889</td>\n",
              "      <td>0.875</td>\n",
              "      <td>0.013889</td>\n",
              "      <td>0.457033</td>\n",
              "    </tr>\n",
              "  </tbody>\n",
              "</table>\n",
              "</div>"
            ],
            "text/plain": [
              "     fpr       tpr  1-fpr        tf  thresholds\n",
              "7  0.125  0.888889  0.875  0.013889    0.457033"
            ]
          },
          "metadata": {
            "tags": []
          },
          "execution_count": 151
        }
      ]
    },
    {
      "cell_type": "code",
      "metadata": {
        "id": "6UJde70YO9en",
        "colab_type": "code",
        "colab": {
          "base_uri": "https://localhost:8080/",
          "height": 301
        },
        "outputId": "5c091b50-2193-4b5b-c270-0a4f1d0357e8"
      },
      "source": [
        "fig,ax=plt.subplots()\n",
        "plt.plot(roc['tpr'])\n",
        "plt.plot(roc['1-fpr'],color='red')\n",
        "plt.xlabel('1 - FALSE POSITIVE RATE')\n",
        "plt.ylabel(\"TRUE POSITIVE RATE\")\n",
        "plt.title('RECIEVER OPERTATING CHARACTERISTIC')\n",
        "ax.set_xticklabels([])"
      ],
      "execution_count": 153,
      "outputs": [
        {
          "output_type": "execute_result",
          "data": {
            "text/plain": [
              "[]"
            ]
          },
          "metadata": {
            "tags": []
          },
          "execution_count": 153
        },
        {
          "output_type": "display_data",
          "data": {
            "image/png": "[encoded data removed]",
            "text/plain": [
              "<Figure size 432x288 with 1 Axes>"
            ]
          },
          "metadata": {
            "tags": []
          }
        }
      ]
    },
    {
      "cell_type": "markdown",
      "metadata": {
        "id": "BNojb6kRQ35K",
        "colab_type": "text"
      },
      "source": [
        "**FOR 0.457(THRESHOLD)**"
      ]
    },
    {
      "cell_type": "code",
      "metadata": {
        "id": "-dJa0EHDQ_V9",
        "colab_type": "code",
        "colab": {
          "base_uri": "https://localhost:8080/",
          "height": 50
        },
        "outputId": "5e905002-e128-4df5-811c-fda0f9e452e3"
      },
      "source": [
        "y_predict_test_class4=binarize(y_prob_test.reshape(1,-1),0.457)[0]\n",
        "y_predict_test_class4"
      ],
      "execution_count": 154,
      "outputs": [
        {
          "output_type": "execute_result",
          "data": {
            "text/plain": [
              "array([1., 1., 1., 0., 0., 0., 0., 1., 0., 0., 0., 0., 1., 0., 0., 0., 1.,\n",
              "       1., 0., 1., 0., 1., 1., 0., 0.])"
            ]
          },
          "metadata": {
            "tags": []
          },
          "execution_count": 154
        }
      ]
    },
    {
      "cell_type": "code",
      "metadata": {
        "id": "TmEeUj6TRVCQ",
        "colab_type": "code",
        "colab": {
          "base_uri": "https://localhost:8080/",
          "height": 50
        },
        "outputId": "f25e70fc-19b4-4aec-d5ca-15c462596f5a"
      },
      "source": [
        "y_predict_test_class4=y_predict_test_class4.astype(int)\n",
        "y_predict_test_class4"
      ],
      "execution_count": 156,
      "outputs": [
        {
          "output_type": "execute_result",
          "data": {
            "text/plain": [
              "array([1, 1, 1, 0, 0, 0, 0, 1, 0, 0, 0, 0, 1, 0, 0, 0, 1, 1, 0, 1, 0, 1,\n",
              "       1, 0, 0])"
            ]
          },
          "metadata": {
            "tags": []
          },
          "execution_count": 156
        }
      ]
    },
    {
      "cell_type": "code",
      "metadata": {
        "id": "H4pRp88uRjoK",
        "colab_type": "code",
        "colab": {
          "base_uri": "https://localhost:8080/",
          "height": 50
        },
        "outputId": "5bba10c4-e704-4726-84b0-de7f2daf0cc9"
      },
      "source": [
        "confusion_matrix_4=confusion_matrix(y_test,y_predict_test_class4)\n",
        "confusion_matrix_4"
      ],
      "execution_count": 167,
      "outputs": [
        {
          "output_type": "execute_result",
          "data": {
            "text/plain": [
              "array([[14,  2],\n",
              "       [ 1,  8]])"
            ]
          },
          "metadata": {
            "tags": []
          },
          "execution_count": 167
        }
      ]
    },
    {
      "cell_type": "code",
      "metadata": {
        "id": "NUwbGRF9SmAI",
        "colab_type": "code",
        "colab": {
          "base_uri": "https://localhost:8080/",
          "height": 82
        },
        "outputId": "d627d6de-af75-4b44-db3b-934f1559ba95"
      },
      "source": [
        "tn,fp,fn,tp=confusion_matrix(y_test,y_predict_test_class4).ravel()\n",
        "print('TRUE NEGATIVE: ',tn)\n",
        "print('FALSE POSITIVE: ',fp)\n",
        "print('FALSE NEGATIVE: ',fn)\n",
        "print('TRUE POSITIVE: ',tp)"
      ],
      "execution_count": 162,
      "outputs": [
        {
          "output_type": "stream",
          "text": [
            "TRUE NEGATIVE:  14\n",
            "FALSE POSITIVE:  2\n",
            "FALSE NEGATIVE:  1\n",
            "TRUE POSITIVE:  8\n"
          ],
          "name": "stdout"
        }
      ]
    },
    {
      "cell_type": "code",
      "metadata": {
        "id": "SvIrtCJORrAw",
        "colab_type": "code",
        "colab": {
          "base_uri": "https://localhost:8080/",
          "height": 163
        },
        "outputId": "598960f4-7853-4723-f297-b088c4977dee"
      },
      "source": [
        "print(classification_report(y_test,y_predict_test_class4))"
      ],
      "execution_count": 158,
      "outputs": [
        {
          "output_type": "stream",
          "text": [
            "              precision    recall  f1-score   support\n",
            "\n",
            "           0       0.93      0.88      0.90        16\n",
            "           1       0.80      0.89      0.84         9\n",
            "\n",
            "    accuracy                           0.88        25\n",
            "   macro avg       0.87      0.88      0.87        25\n",
            "weighted avg       0.89      0.88      0.88        25\n",
            "\n"
          ],
          "name": "stdout"
        }
      ]
    },
    {
      "cell_type": "code",
      "metadata": {
        "id": "Z3tx9AjsRxZQ",
        "colab_type": "code",
        "colab": {}
      },
      "source": [
        ""
      ],
      "execution_count": 0,
      "outputs": []
    }
  ]
}