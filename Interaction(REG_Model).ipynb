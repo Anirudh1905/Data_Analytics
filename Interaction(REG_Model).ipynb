{
  "nbformat": 4,
  "nbformat_minor": 0,
  "metadata": {
    "colab": {
      "name": "Interaction(REG_Model).ipynb",
      "provenance": [],
      "mount_file_id": "1XdQ5AszLGYxLebAR07KpK7PnzOJWrDfM",
      "authorship_tag": "ABX9TyO1EFz5AcpgYj0z5MSW0P/e",
      "include_colab_link": true
    },
    "kernelspec": {
      "name": "python3",
      "display_name": "Python 3"
    }
  },
  "cells": [
    {
      "cell_type": "markdown",
      "metadata": {
        "id": "view-in-github",
        "colab_type": "text"
      },
      "source": [
        "<a href=\"https://colab.research.google.com/github/Anirudh1905/Data_Analytics/blob/master/Interaction(REG_Model).ipynb\" target=\"_parent\"><img src=\"https://colab.research.google.com/assets/colab-badge.svg\" alt=\"Open In Colab\"/></a>"
      ]
    },
    {
      "cell_type": "code",
      "metadata": {
        "id": "4qTYg8EDtAUw",
        "colab_type": "code",
        "colab": {}
      },
      "source": [
        "import pandas as pd\n",
        "import numpy as np\n",
        "import matplotlib.pyplot as plt\n",
        "import statsmodels.api as sm"
      ],
      "execution_count": 0,
      "outputs": []
    },
    {
      "cell_type": "code",
      "metadata": {
        "id": "Xg52CsWRtmeO",
        "colab_type": "code",
        "colab": {
          "base_uri": "https://localhost:8080/",
          "height": 195
        },
        "outputId": "08241033-0349-4c19-a9de-80aa8ce0d858"
      },
      "source": [
        "tb1=pd.read_excel('/content/drive/My Drive/Colab Notebooks/Tyler.xlsx')\n",
        "tb1.head()"
      ],
      "execution_count": 3,
      "outputs": [
        {
          "output_type": "execute_result",
          "data": {
            "text/html": [
              "<div>\n",
              "<style scoped>\n",
              "    .dataframe tbody tr th:only-of-type {\n",
              "        vertical-align: middle;\n",
              "    }\n",
              "\n",
              "    .dataframe tbody tr th {\n",
              "        vertical-align: top;\n",
              "    }\n",
              "\n",
              "    .dataframe thead th {\n",
              "        text-align: right;\n",
              "    }\n",
              "</style>\n",
              "<table border=\"1\" class=\"dataframe\">\n",
              "  <thead>\n",
              "    <tr style=\"text-align: right;\">\n",
              "      <th></th>\n",
              "      <th>Price</th>\n",
              "      <th>Advertising Expenditure</th>\n",
              "      <th>Sales</th>\n",
              "    </tr>\n",
              "  </thead>\n",
              "  <tbody>\n",
              "    <tr>\n",
              "      <th>0</th>\n",
              "      <td>2.0</td>\n",
              "      <td>50</td>\n",
              "      <td>478</td>\n",
              "    </tr>\n",
              "    <tr>\n",
              "      <th>1</th>\n",
              "      <td>2.5</td>\n",
              "      <td>50</td>\n",
              "      <td>373</td>\n",
              "    </tr>\n",
              "    <tr>\n",
              "      <th>2</th>\n",
              "      <td>3.0</td>\n",
              "      <td>50</td>\n",
              "      <td>335</td>\n",
              "    </tr>\n",
              "    <tr>\n",
              "      <th>3</th>\n",
              "      <td>2.0</td>\n",
              "      <td>50</td>\n",
              "      <td>473</td>\n",
              "    </tr>\n",
              "    <tr>\n",
              "      <th>4</th>\n",
              "      <td>2.5</td>\n",
              "      <td>50</td>\n",
              "      <td>358</td>\n",
              "    </tr>\n",
              "  </tbody>\n",
              "</table>\n",
              "</div>"
            ],
            "text/plain": [
              "   Price  Advertising Expenditure  Sales\n",
              "0    2.0                       50    478\n",
              "1    2.5                       50    373\n",
              "2    3.0                       50    335\n",
              "3    2.0                       50    473\n",
              "4    2.5                       50    358"
            ]
          },
          "metadata": {
            "tags": []
          },
          "execution_count": 3
        }
      ]
    },
    {
      "cell_type": "code",
      "metadata": {
        "id": "qI3ZQGrZtxcm",
        "colab_type": "code",
        "colab": {
          "base_uri": "https://localhost:8080/",
          "height": 296
        },
        "outputId": "52a63221-7eac-4c7d-da22-086ae3420661"
      },
      "source": [
        "plt.scatter(tb1['Price'],tb1['Sales'],color='green')\n",
        "plt.ylabel('Sales')\n",
        "plt.xlabel('Price')"
      ],
      "execution_count": 4,
      "outputs": [
        {
          "output_type": "execute_result",
          "data": {
            "text/plain": [
              "Text(0.5, 0, 'Price')"
            ]
          },
          "metadata": {
            "tags": []
          },
          "execution_count": 4
        },
        {
          "output_type": "display_data",
          "data": {
            "image/png": "[encoded data removed]",
            "text/plain": [
              "<Figure size 432x288 with 1 Axes>"
            ]
          },
          "metadata": {
            "tags": []
          }
        }
      ]
    },
    {
      "cell_type": "code",
      "metadata": {
        "id": "C46KjqbsujQI",
        "colab_type": "code",
        "colab": {
          "base_uri": "https://localhost:8080/",
          "height": 296
        },
        "outputId": "a2f4f5fa-40e8-4717-b99d-62f33e7ec7ad"
      },
      "source": [
        "plt.scatter(tb1['Advertising Expenditure'],tb1['Sales'],color='red')\n",
        "plt.ylabel('Sales')\n",
        "plt.xlabel('Advertising Expenditure')"
      ],
      "execution_count": 5,
      "outputs": [
        {
          "output_type": "execute_result",
          "data": {
            "text/plain": [
              "Text(0.5, 0, 'Advertising Expenditure')"
            ]
          },
          "metadata": {
            "tags": []
          },
          "execution_count": 5
        },
        {
          "output_type": "display_data",
          "data": {
            "image/png": "[encoded data removed]",
            "text/plain": [
              "<Figure size 432x288 with 1 Axes>"
            ]
          },
          "metadata": {
            "tags": []
          }
        }
      ]
    },
    {
      "cell_type": "code",
      "metadata": {
        "id": "YSXWS0Qovhsu",
        "colab_type": "code",
        "colab": {}
      },
      "source": [
        "z1=tb1['Advertising Expenditure']\n",
        "z2=tb1['Price']\n",
        "z3=z1*z2"
      ],
      "execution_count": 0,
      "outputs": []
    },
    {
      "cell_type": "code",
      "metadata": {
        "id": "swJxDP1Yus-P",
        "colab_type": "code",
        "colab": {
          "base_uri": "https://localhost:8080/",
          "height": 499
        },
        "outputId": "7de5bd36-13ff-4fad-a6df-768a3e448506"
      },
      "source": [
        "x=np.column_stack((z1,z2,z3))\n",
        "y=tb1['Sales']\n",
        "x2=sm.add_constant(x)\n",
        "model=sm.OLS(y,x2).fit()\n",
        "model.summary()"
      ],
      "execution_count": 10,
      "outputs": [
        {
          "output_type": "execute_result",
          "data": {
            "text/html": [
              "<table class=\"simpletable\">\n",
              "<caption>OLS Regression Results</caption>\n",
              "<tr>\n",
              "  <th>Dep. Variable:</th>          <td>Sales</td>      <th>  R-squared:         </th> <td>   0.978</td>\n",
              "</tr>\n",
              "<tr>\n",
              "  <th>Model:</th>                   <td>OLS</td>       <th>  Adj. R-squared:    </th> <td>   0.975</td>\n",
              "</tr>\n",
              "<tr>\n",
              "  <th>Method:</th>             <td>Least Squares</td>  <th>  F-statistic:       </th> <td>   297.9</td>\n",
              "</tr>\n",
              "<tr>\n",
              "  <th>Date:</th>             <td>Sat, 14 Mar 2020</td> <th>  Prob (F-statistic):</th> <td>9.26e-17</td>\n",
              "</tr>\n",
              "<tr>\n",
              "  <th>Time:</th>                 <td>15:53:11</td>     <th>  Log-Likelihood:    </th> <td> -111.99</td>\n",
              "</tr>\n",
              "<tr>\n",
              "  <th>No. Observations:</th>      <td>    24</td>      <th>  AIC:               </th> <td>   232.0</td>\n",
              "</tr>\n",
              "<tr>\n",
              "  <th>Df Residuals:</th>          <td>    20</td>      <th>  BIC:               </th> <td>   236.7</td>\n",
              "</tr>\n",
              "<tr>\n",
              "  <th>Df Model:</th>              <td>     3</td>      <th>                     </th>     <td> </td>   \n",
              "</tr>\n",
              "<tr>\n",
              "  <th>Covariance Type:</th>      <td>nonrobust</td>    <th>                     </th>     <td> </td>   \n",
              "</tr>\n",
              "</table>\n",
              "<table class=\"simpletable\">\n",
              "<tr>\n",
              "    <td></td>       <th>coef</th>     <th>std err</th>      <th>t</th>      <th>P>|t|</th>  <th>[0.025</th>    <th>0.975]</th>  \n",
              "</tr>\n",
              "<tr>\n",
              "  <th>const</th> <td> -275.8333</td> <td>  112.842</td> <td>   -2.444</td> <td> 0.024</td> <td> -511.218</td> <td>  -40.449</td>\n",
              "</tr>\n",
              "<tr>\n",
              "  <th>x1</th>    <td>   19.6800</td> <td>    1.427</td> <td>   13.788</td> <td> 0.000</td> <td>   16.703</td> <td>   22.657</td>\n",
              "</tr>\n",
              "<tr>\n",
              "  <th>x2</th>    <td>  175.0000</td> <td>   44.547</td> <td>    3.928</td> <td> 0.001</td> <td>   82.077</td> <td>  267.923</td>\n",
              "</tr>\n",
              "<tr>\n",
              "  <th>x3</th>    <td>   -6.0800</td> <td>    0.563</td> <td>  -10.790</td> <td> 0.000</td> <td>   -7.255</td> <td>   -4.905</td>\n",
              "</tr>\n",
              "</table>\n",
              "<table class=\"simpletable\">\n",
              "<tr>\n",
              "  <th>Omnibus:</th>       <td> 0.641</td> <th>  Durbin-Watson:     </th> <td>   2.842</td>\n",
              "</tr>\n",
              "<tr>\n",
              "  <th>Prob(Omnibus):</th> <td> 0.726</td> <th>  Jarque-Bera (JB):  </th> <td>   0.565</td>\n",
              "</tr>\n",
              "<tr>\n",
              "  <th>Skew:</th>          <td> 0.335</td> <th>  Prob(JB):          </th> <td>   0.754</td>\n",
              "</tr>\n",
              "<tr>\n",
              "  <th>Kurtosis:</th>      <td> 2.661</td> <th>  Cond. No.          </th> <td>4.53e+03</td>\n",
              "</tr>\n",
              "</table><br/><br/>Warnings:<br/>[1] Standard Errors assume that the covariance matrix of the errors is correctly specified.<br/>[2] The condition number is large, 4.53e+03. This might indicate that there are<br/>strong multicollinearity or other numerical problems."
            ],
            "text/plain": [
              "<class 'statsmodels.iolib.summary.Summary'>\n",
              "\"\"\"\n",
              "                            OLS Regression Results                            \n",
              "==============================================================================\n",
              "Dep. Variable:                  Sales   R-squared:                       0.978\n",
              "Model:                            OLS   Adj. R-squared:                  0.975\n",
              "Method:                 Least Squares   F-statistic:                     297.9\n",
              "Date:                Sat, 14 Mar 2020   Prob (F-statistic):           9.26e-17\n",
              "Time:                        15:53:11   Log-Likelihood:                -111.99\n",
              "No. Observations:                  24   AIC:                             232.0\n",
              "Df Residuals:                      20   BIC:                             236.7\n",
              "Df Model:                           3                                         \n",
              "Covariance Type:            nonrobust                                         \n",
              "==============================================================================\n",
              "                 coef    std err          t      P>|t|      [0.025      0.975]\n",
              "------------------------------------------------------------------------------\n",
              "const       -275.8333    112.842     -2.444      0.024    -511.218     -40.449\n",
              "x1            19.6800      1.427     13.788      0.000      16.703      22.657\n",
              "x2           175.0000     44.547      3.928      0.001      82.077     267.923\n",
              "x3            -6.0800      0.563    -10.790      0.000      -7.255      -4.905\n",
              "==============================================================================\n",
              "Omnibus:                        0.641   Durbin-Watson:                   2.842\n",
              "Prob(Omnibus):                  0.726   Jarque-Bera (JB):                0.565\n",
              "Skew:                           0.335   Prob(JB):                        0.754\n",
              "Kurtosis:                       2.661   Cond. No.                     4.53e+03\n",
              "==============================================================================\n",
              "\n",
              "Warnings:\n",
              "[1] Standard Errors assume that the covariance matrix of the errors is correctly specified.\n",
              "[2] The condition number is large, 4.53e+03. This might indicate that there are\n",
              "strong multicollinearity or other numerical problems.\n",
              "\"\"\""
            ]
          },
          "metadata": {
            "tags": []
          },
          "execution_count": 10
        }
      ]
    }
  ]
}