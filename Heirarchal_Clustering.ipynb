{
  "nbformat": 4,
  "nbformat_minor": 0,
  "metadata": {
    "colab": {
      "name": "Heirarchal_Clustering.ipynb",
      "provenance": [],
      "mount_file_id": "10hNd8dqSMQJcKluXre8eKqT10KOLjXjy",
      "authorship_tag": "ABX9TyOpRT49f6IB65bBrIJffyBm",
      "include_colab_link": true
    },
    "kernelspec": {
      "name": "python3",
      "display_name": "Python 3"
    }
  },
  "cells": [
    {
      "cell_type": "markdown",
      "metadata": {
        "id": "view-in-github",
        "colab_type": "text"
      },
      "source": [
        "<a href=\"https://colab.research.google.com/github/Anirudh1905/Data_Analytics/blob/master/Heirarchal_Clustering.ipynb\" target=\"_parent\"><img src=\"https://colab.research.google.com/assets/colab-badge.svg\" alt=\"Open In Colab\"/></a>"
      ]
    },
    {
      "cell_type": "code",
      "metadata": {
        "id": "Hmxpa5zKwJPr",
        "colab_type": "code",
        "colab": {}
      },
      "source": [
        "import pandas as pd\n",
        "import numpy as np\n",
        "import matplotlib.pyplot as plt\n",
        "import scipy\n",
        "from scipy.cluster.hierarchy import fcluster\n",
        "from scipy.cluster.hierarchy import  cophenet\n",
        "from scipy.spatial.distance import pdist"
      ],
      "execution_count": 0,
      "outputs": []
    },
    {
      "cell_type": "code",
      "metadata": {
        "id": "YdPUhWbkwbzo",
        "colab_type": "code",
        "colab": {
          "base_uri": "https://localhost:8080/",
          "height": 257
        },
        "outputId": "5f059eaa-de5c-44f5-e1e6-5482551d6df6"
      },
      "source": [
        "data=pd.read_excel('/content/drive/My Drive/Colab Notebooks/hierarchical_clustering.xlsx')\n",
        "data"
      ],
      "execution_count": 5,
      "outputs": [
        {
          "output_type": "execute_result",
          "data": {
            "text/html": [
              "<div>\n",
              "<style scoped>\n",
              "    .dataframe tbody tr th:only-of-type {\n",
              "        vertical-align: middle;\n",
              "    }\n",
              "\n",
              "    .dataframe tbody tr th {\n",
              "        vertical-align: top;\n",
              "    }\n",
              "\n",
              "    .dataframe thead th {\n",
              "        text-align: right;\n",
              "    }\n",
              "</style>\n",
              "<table border=\"1\" class=\"dataframe\">\n",
              "  <thead>\n",
              "    <tr style=\"text-align: right;\">\n",
              "      <th></th>\n",
              "      <th>Variable 1</th>\n",
              "      <th>Variable 2</th>\n",
              "    </tr>\n",
              "  </thead>\n",
              "  <tbody>\n",
              "    <tr>\n",
              "      <th>0</th>\n",
              "      <td>2.00</td>\n",
              "      <td>2.0</td>\n",
              "    </tr>\n",
              "    <tr>\n",
              "      <th>1</th>\n",
              "      <td>5.50</td>\n",
              "      <td>4.0</td>\n",
              "    </tr>\n",
              "    <tr>\n",
              "      <th>2</th>\n",
              "      <td>5.00</td>\n",
              "      <td>5.0</td>\n",
              "    </tr>\n",
              "    <tr>\n",
              "      <th>3</th>\n",
              "      <td>1.50</td>\n",
              "      <td>2.5</td>\n",
              "    </tr>\n",
              "    <tr>\n",
              "      <th>4</th>\n",
              "      <td>1.00</td>\n",
              "      <td>1.0</td>\n",
              "    </tr>\n",
              "    <tr>\n",
              "      <th>5</th>\n",
              "      <td>7.00</td>\n",
              "      <td>5.0</td>\n",
              "    </tr>\n",
              "    <tr>\n",
              "      <th>6</th>\n",
              "      <td>5.75</td>\n",
              "      <td>6.5</td>\n",
              "    </tr>\n",
              "  </tbody>\n",
              "</table>\n",
              "</div>"
            ],
            "text/plain": [
              "   Variable 1  Variable 2\n",
              "0        2.00         2.0\n",
              "1        5.50         4.0\n",
              "2        5.00         5.0\n",
              "3        1.50         2.5\n",
              "4        1.00         1.0\n",
              "5        7.00         5.0\n",
              "6        5.75         6.5"
            ]
          },
          "metadata": {
            "tags": []
          },
          "execution_count": 5
        }
      ]
    },
    {
      "cell_type": "code",
      "metadata": {
        "id": "YyciW6pJwmTz",
        "colab_type": "code",
        "colab": {
          "base_uri": "https://localhost:8080/",
          "height": 279
        },
        "outputId": "80d51cd1-4b8b-4a81-be54-e62bd44d8796"
      },
      "source": [
        "x=data['Variable 1']\n",
        "y=data['Variable 2']\n",
        "n=range(1,8)\n",
        "\n",
        "fig,ax=plt.subplots()\n",
        "ax.scatter(x,y,marker='*',c='red',alpha=0.5)\n",
        "plt.grid()\n",
        "plt.xlabel(\"Variable 1\")\n",
        "plt.ylabel(\"Variable 2\")\n",
        "for i,txt in enumerate(n):\n",
        "  ax.annotate(txt,(x[i],y[i]))"
      ],
      "execution_count": 6,
      "outputs": [
        {
          "output_type": "display_data",
          "data": {
            "image/png": "[encoded data removed]",
            "text/plain": [
              "<Figure size 432x288 with 1 Axes>"
            ]
          },
          "metadata": {
            "tags": [],
            "needs_background": "light"
          }
        }
      ]
    },
    {
      "cell_type": "code",
      "metadata": {
        "id": "pIGkrpcC8D5v",
        "colab_type": "code",
        "colab": {
          "base_uri": "https://localhost:8080/",
          "height": 430
        },
        "outputId": "bf208637-3953-4593-9a27-9c579bf91559"
      },
      "source": [
        "from scipy.cluster.hierarchy import dendrogram,linkage\n",
        "linked=linkage(data,'single')\n",
        "labelList=range(1,8)\n",
        "plt.figure(figsize=(10,7))\n",
        "dendrogram(linked,orientation='top',labels=labelList,distance_sort='descending',show_leaf_counts=True)\n",
        "plt.axhline(y=2.5)\n",
        "plt.show()"
      ],
      "execution_count": 7,
      "outputs": [
        {
          "output_type": "display_data",
          "data": {
            "image/png": "[encoded data removed]",
            "text/plain": [
              "<Figure size 720x504 with 1 Axes>"
            ]
          },
          "metadata": {
            "tags": [],
            "needs_background": "light"
          }
        }
      ]
    },
    {
      "cell_type": "markdown",
      "metadata": {
        "id": "HrZMQyVUQZCN",
        "colab_type": "text"
      },
      "source": [
        "**K=2**"
      ]
    },
    {
      "cell_type": "code",
      "metadata": {
        "id": "QFMzFMFeO5Jg",
        "colab_type": "code",
        "colab": {
          "base_uri": "https://localhost:8080/",
          "height": 68
        },
        "outputId": "ef8fa101-46db-4769-f9db-7077fd6ea1ce"
      },
      "source": [
        "import sklearn\n",
        "from sklearn.cluster import AgglomerativeClustering\n",
        "\n",
        "k=2\n",
        "Hclustering=AgglomerativeClustering(n_clusters=k,affinity='euclidean',linkage='single')\n",
        "Hclustering.fit(data)"
      ],
      "execution_count": 12,
      "outputs": [
        {
          "output_type": "execute_result",
          "data": {
            "text/plain": [
              "AgglomerativeClustering(affinity='euclidean', compute_full_tree='auto',\n",
              "                        connectivity=None, distance_threshold=None,\n",
              "                        linkage='single', memory=None, n_clusters=2)"
            ]
          },
          "metadata": {
            "tags": []
          },
          "execution_count": 12
        }
      ]
    },
    {
      "cell_type": "code",
      "metadata": {
        "id": "7fhIJPtCPXI7",
        "colab_type": "code",
        "colab": {
          "base_uri": "https://localhost:8080/",
          "height": 34
        },
        "outputId": "fa9592ee-4503-4368-9fbd-911b4c6528fb"
      },
      "source": [
        "Hclustering.fit_predict(data)"
      ],
      "execution_count": 13,
      "outputs": [
        {
          "output_type": "execute_result",
          "data": {
            "text/plain": [
              "array([1, 0, 0, 1, 1, 0, 0])"
            ]
          },
          "metadata": {
            "tags": []
          },
          "execution_count": 13
        }
      ]
    },
    {
      "cell_type": "code",
      "metadata": {
        "id": "ENfJiJXYPbxg",
        "colab_type": "code",
        "colab": {
          "base_uri": "https://localhost:8080/",
          "height": 34
        },
        "outputId": "10c56a2c-4693-4ff2-e98b-06e4f157cdde"
      },
      "source": [
        "print(Hclustering.labels_)"
      ],
      "execution_count": 14,
      "outputs": [
        {
          "output_type": "stream",
          "text": [
            "[1 0 0 1 1 0 0]\n"
          ],
          "name": "stdout"
        }
      ]
    },
    {
      "cell_type": "code",
      "metadata": {
        "id": "KKcpk4ZXPgVP",
        "colab_type": "code",
        "colab": {
          "base_uri": "https://localhost:8080/",
          "height": 279
        },
        "outputId": "c5ae06dd-ea9f-42de-c2a7-b1db6ccefc52"
      },
      "source": [
        "x=data['Variable 1']\n",
        "y=data['Variable 2']\n",
        "n=range(1,8)\n",
        "\n",
        "fig,ax=plt.subplots()\n",
        "ax.scatter(x,y,c=Hclustering.labels_,cmap='rainbow')\n",
        "plt.grid()\n",
        "plt.xlabel(\"Variable 1\")\n",
        "plt.ylabel(\"Variable 2\")\n",
        "for i,txt in enumerate(n):\n",
        "  ax.annotate(txt,(x[i],y[i]))"
      ],
      "execution_count": 15,
      "outputs": [
        {
          "output_type": "display_data",
          "data": {
            "image/png": "[encoded data removed]",
            "text/plain": [
              "<Figure size 432x288 with 1 Axes>"
            ]
          },
          "metadata": {
            "tags": [],
            "needs_background": "light"
          }
        }
      ]
    },
    {
      "cell_type": "markdown",
      "metadata": {
        "id": "J2Yr-owVQzrQ",
        "colab_type": "text"
      },
      "source": [
        "**K=3**"
      ]
    },
    {
      "cell_type": "code",
      "metadata": {
        "id": "dMKcW-qdP4Pm",
        "colab_type": "code",
        "colab": {
          "base_uri": "https://localhost:8080/",
          "height": 68
        },
        "outputId": "13c6ccbb-a014-427b-89dc-940be8ff634f"
      },
      "source": [
        "k=3\n",
        "Hclustering=AgglomerativeClustering(n_clusters=k,affinity='euclidean',linkage='single')\n",
        "Hclustering.fit(data)"
      ],
      "execution_count": 17,
      "outputs": [
        {
          "output_type": "execute_result",
          "data": {
            "text/plain": [
              "AgglomerativeClustering(affinity='euclidean', compute_full_tree='auto',\n",
              "                        connectivity=None, distance_threshold=None,\n",
              "                        linkage='single', memory=None, n_clusters=3)"
            ]
          },
          "metadata": {
            "tags": []
          },
          "execution_count": 17
        }
      ]
    },
    {
      "cell_type": "code",
      "metadata": {
        "id": "b0MzBdAgQmt7",
        "colab_type": "code",
        "colab": {
          "base_uri": "https://localhost:8080/",
          "height": 34
        },
        "outputId": "ad2ca95e-92ea-4cc3-b6c5-988e496783a3"
      },
      "source": [
        "Hclustering.fit_predict(data)"
      ],
      "execution_count": 18,
      "outputs": [
        {
          "output_type": "execute_result",
          "data": {
            "text/plain": [
              "array([1, 0, 0, 1, 1, 2, 0])"
            ]
          },
          "metadata": {
            "tags": []
          },
          "execution_count": 18
        }
      ]
    },
    {
      "cell_type": "code",
      "metadata": {
        "id": "bfXfEBqrQpjF",
        "colab_type": "code",
        "colab": {
          "base_uri": "https://localhost:8080/",
          "height": 34
        },
        "outputId": "57a06760-ef42-48b2-ae33-32e6aab9125d"
      },
      "source": [
        "print(Hclustering.labels_)"
      ],
      "execution_count": 19,
      "outputs": [
        {
          "output_type": "stream",
          "text": [
            "[1 0 0 1 1 2 0]\n"
          ],
          "name": "stdout"
        }
      ]
    },
    {
      "cell_type": "code",
      "metadata": {
        "id": "dck22N25QszW",
        "colab_type": "code",
        "colab": {
          "base_uri": "https://localhost:8080/",
          "height": 279
        },
        "outputId": "9b4650d5-7687-42dc-8924-4af0ca69d9fa"
      },
      "source": [
        "x=data['Variable 1']\n",
        "y=data['Variable 2']\n",
        "n=range(1,8)\n",
        "\n",
        "fig,ax=plt.subplots()\n",
        "ax.scatter(x,y,c=Hclustering.labels_,cmap='rainbow')\n",
        "plt.grid()\n",
        "plt.xlabel(\"Variable 1\")\n",
        "plt.ylabel(\"Variable 2\")\n",
        "for i,txt in enumerate(n):\n",
        "  ax.annotate(txt,(x[i],y[i]))"
      ],
      "execution_count": 20,
      "outputs": [
        {
          "output_type": "display_data",
          "data": {
            "image/png": "[encoded data removed]",
            "text/plain": [
              "<Figure size 432x288 with 1 Axes>"
            ]
          },
          "metadata": {
            "tags": [],
            "needs_background": "light"
          }
        }
      ]
    }
  ]
}