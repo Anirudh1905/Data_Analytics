{
  "nbformat": 4,
  "nbformat_minor": 0,
  "metadata": {
    "colab": {
      "name": "Chi_P.ipynb",
      "provenance": [],
      "mount_file_id": "1uwWus6cFKG7afIBk77YCrsqCP59cjBRS",
      "authorship_tag": "ABX9TyMIbsxsXzbpQOj9YwxFrKOR",
      "include_colab_link": true
    },
    "kernelspec": {
      "name": "python3",
      "display_name": "Python 3"
    }
  },
  "cells": [
    {
      "cell_type": "markdown",
      "metadata": {
        "id": "view-in-github",
        "colab_type": "text"
      },
      "source": [
        "<a href=\"https://colab.research.google.com/github/Anirudh1905/Data_Analytics/blob/master/Chi_P.ipynb\" target=\"_parent\"><img src=\"https://colab.research.google.com/assets/colab-badge.svg\" alt=\"Open In Colab\"/></a>"
      ]
    },
    {
      "cell_type": "code",
      "metadata": {
        "id": "A0ltmzOtWgtP",
        "colab_type": "code",
        "colab": {}
      },
      "source": [
        "import scipy\n",
        "from scipy.stats import chi2\n",
        "from scipy.stats import poisson\n",
        "import pandas as pd\n",
        "import numpy as np"
      ],
      "execution_count": 0,
      "outputs": []
    },
    {
      "cell_type": "code",
      "metadata": {
        "id": "0s5ILa0TXF1Y",
        "colab_type": "code",
        "colab": {
          "base_uri": "https://localhost:8080/",
          "height": 436
        },
        "outputId": "51921f92-eafb-49d6-8ae8-ac36c5e06004"
      },
      "source": [
        "data=pd.read_excel('/content/drive/My Drive/Colab Notebooks/P_distribution.xlsx')\n",
        "data"
      ],
      "execution_count": 3,
      "outputs": [
        {
          "output_type": "execute_result",
          "data": {
            "text/html": [
              "<div>\n",
              "<style scoped>\n",
              "    .dataframe tbody tr th:only-of-type {\n",
              "        vertical-align: middle;\n",
              "    }\n",
              "\n",
              "    .dataframe tbody tr th {\n",
              "        vertical-align: top;\n",
              "    }\n",
              "\n",
              "    .dataframe thead th {\n",
              "        text-align: right;\n",
              "    }\n",
              "</style>\n",
              "<table border=\"1\" class=\"dataframe\">\n",
              "  <thead>\n",
              "    <tr style=\"text-align: right;\">\n",
              "      <th></th>\n",
              "      <th>Arrivals</th>\n",
              "      <th>Frequency</th>\n",
              "    </tr>\n",
              "  </thead>\n",
              "  <tbody>\n",
              "    <tr>\n",
              "      <th>0</th>\n",
              "      <td>0</td>\n",
              "      <td>0</td>\n",
              "    </tr>\n",
              "    <tr>\n",
              "      <th>1</th>\n",
              "      <td>1</td>\n",
              "      <td>1</td>\n",
              "    </tr>\n",
              "    <tr>\n",
              "      <th>2</th>\n",
              "      <td>2</td>\n",
              "      <td>4</td>\n",
              "    </tr>\n",
              "    <tr>\n",
              "      <th>3</th>\n",
              "      <td>3</td>\n",
              "      <td>10</td>\n",
              "    </tr>\n",
              "    <tr>\n",
              "      <th>4</th>\n",
              "      <td>4</td>\n",
              "      <td>14</td>\n",
              "    </tr>\n",
              "    <tr>\n",
              "      <th>5</th>\n",
              "      <td>5</td>\n",
              "      <td>20</td>\n",
              "    </tr>\n",
              "    <tr>\n",
              "      <th>6</th>\n",
              "      <td>6</td>\n",
              "      <td>12</td>\n",
              "    </tr>\n",
              "    <tr>\n",
              "      <th>7</th>\n",
              "      <td>7</td>\n",
              "      <td>12</td>\n",
              "    </tr>\n",
              "    <tr>\n",
              "      <th>8</th>\n",
              "      <td>8</td>\n",
              "      <td>9</td>\n",
              "    </tr>\n",
              "    <tr>\n",
              "      <th>9</th>\n",
              "      <td>9</td>\n",
              "      <td>8</td>\n",
              "    </tr>\n",
              "    <tr>\n",
              "      <th>10</th>\n",
              "      <td>10</td>\n",
              "      <td>6</td>\n",
              "    </tr>\n",
              "    <tr>\n",
              "      <th>11</th>\n",
              "      <td>11</td>\n",
              "      <td>3</td>\n",
              "    </tr>\n",
              "    <tr>\n",
              "      <th>12</th>\n",
              "      <td>12</td>\n",
              "      <td>1</td>\n",
              "    </tr>\n",
              "  </tbody>\n",
              "</table>\n",
              "</div>"
            ],
            "text/plain": [
              "    Arrivals  Frequency\n",
              "0          0          0\n",
              "1          1          1\n",
              "2          2          4\n",
              "3          3         10\n",
              "4          4         14\n",
              "5          5         20\n",
              "6          6         12\n",
              "7          7         12\n",
              "8          8          9\n",
              "9          9          8\n",
              "10        10          6\n",
              "11        11          3\n",
              "12        12          1"
            ]
          },
          "metadata": {
            "tags": []
          },
          "execution_count": 3
        }
      ]
    },
    {
      "cell_type": "code",
      "metadata": {
        "id": "O2pFP5JTXRFc",
        "colab_type": "code",
        "colab": {
          "base_uri": "https://localhost:8080/",
          "height": 256
        },
        "outputId": "7db54259-7a06-479d-9f87-4a392c0c9858"
      },
      "source": [
        "Observed_Freq=data['Frequency']\n",
        "Observed_Freq"
      ],
      "execution_count": 4,
      "outputs": [
        {
          "output_type": "execute_result",
          "data": {
            "text/plain": [
              "0      0\n",
              "1      1\n",
              "2      4\n",
              "3     10\n",
              "4     14\n",
              "5     20\n",
              "6     12\n",
              "7     12\n",
              "8      9\n",
              "9      8\n",
              "10     6\n",
              "11     3\n",
              "12     1\n",
              "Name: Frequency, dtype: int64"
            ]
          },
          "metadata": {
            "tags": []
          },
          "execution_count": 4
        }
      ]
    },
    {
      "cell_type": "code",
      "metadata": {
        "id": "Gae-8MqiXbUz",
        "colab_type": "code",
        "colab": {
          "base_uri": "https://localhost:8080/",
          "height": 34
        },
        "outputId": "358d9aaf-4b76-4413-9697-8c4f678ff266"
      },
      "source": [
        "total_arrival=600\n",
        "total_time_period=100\n",
        "mu=total_arrival/total_time_period\n",
        "mu"
      ],
      "execution_count": 5,
      "outputs": [
        {
          "output_type": "execute_result",
          "data": {
            "text/plain": [
              "6.0"
            ]
          },
          "metadata": {
            "tags": []
          },
          "execution_count": 5
        }
      ]
    },
    {
      "cell_type": "code",
      "metadata": {
        "id": "fbB6aME5XrMp",
        "colab_type": "code",
        "colab": {
          "base_uri": "https://localhost:8080/",
          "height": 238
        },
        "outputId": "00cf2041-fc51-464c-8cd5-4adc4764e52e"
      },
      "source": [
        "Expected_Freq=[]\n",
        "for i in range(len(Observed_Freq)):\n",
        "  E_Freq=100*poisson.pmf(i,mu)\n",
        "  Expected_Freq.append(E_Freq)\n",
        "Expected_Freq"
      ],
      "execution_count": 6,
      "outputs": [
        {
          "output_type": "execute_result",
          "data": {
            "text/plain": [
              "[0.24787521766663584,\n",
              " 1.4872513059998145,\n",
              " 4.461753917999444,\n",
              " 8.923507835998894,\n",
              " 13.385261753998332,\n",
              " 16.062314104797995,\n",
              " 16.06231410479801,\n",
              " 13.767697804112569,\n",
              " 10.32577335308442,\n",
              " 6.883848902056284,\n",
              " 4.130309341233764,\n",
              " 2.2528960043093247,\n",
              " 1.1264480021546681]"
            ]
          },
          "metadata": {
            "tags": []
          },
          "execution_count": 6
        }
      ]
    },
    {
      "cell_type": "code",
      "metadata": {
        "id": "jQatIgswYDqa",
        "colab_type": "code",
        "colab": {
          "base_uri": "https://localhost:8080/",
          "height": 238
        },
        "outputId": "04b0f217-3d12-457e-a19d-2a06f2cd6207"
      },
      "source": [
        "Expected_Freq_round_off=[round(elem,2) for elem in Expected_Freq]\n",
        "Expected_Freq_round_off"
      ],
      "execution_count": 9,
      "outputs": [
        {
          "output_type": "execute_result",
          "data": {
            "text/plain": [
              "[0.25,\n",
              " 1.49,\n",
              " 4.46,\n",
              " 8.92,\n",
              " 13.39,\n",
              " 16.06,\n",
              " 16.06,\n",
              " 13.77,\n",
              " 10.33,\n",
              " 6.88,\n",
              " 4.13,\n",
              " 2.25,\n",
              " 1.13]"
            ]
          },
          "metadata": {
            "tags": []
          },
          "execution_count": 9
        }
      ]
    },
    {
      "cell_type": "code",
      "metadata": {
        "id": "S3SaN7eXYfXa",
        "colab_type": "code",
        "colab": {
          "base_uri": "https://localhost:8080/",
          "height": 436
        },
        "outputId": "645d3912-46fe-48dd-8eb0-b31f8b762a64"
      },
      "source": [
        "df=pd.DataFrame(list(zip(Observed_Freq,Expected_Freq_round_off)),columns=[\"Observed Frequency\", \"Expected Frequency\"])\n",
        "df"
      ],
      "execution_count": 10,
      "outputs": [
        {
          "output_type": "execute_result",
          "data": {
            "text/html": [
              "<div>\n",
              "<style scoped>\n",
              "    .dataframe tbody tr th:only-of-type {\n",
              "        vertical-align: middle;\n",
              "    }\n",
              "\n",
              "    .dataframe tbody tr th {\n",
              "        vertical-align: top;\n",
              "    }\n",
              "\n",
              "    .dataframe thead th {\n",
              "        text-align: right;\n",
              "    }\n",
              "</style>\n",
              "<table border=\"1\" class=\"dataframe\">\n",
              "  <thead>\n",
              "    <tr style=\"text-align: right;\">\n",
              "      <th></th>\n",
              "      <th>Observed Frequency</th>\n",
              "      <th>Expected Frequency</th>\n",
              "    </tr>\n",
              "  </thead>\n",
              "  <tbody>\n",
              "    <tr>\n",
              "      <th>0</th>\n",
              "      <td>0</td>\n",
              "      <td>0.25</td>\n",
              "    </tr>\n",
              "    <tr>\n",
              "      <th>1</th>\n",
              "      <td>1</td>\n",
              "      <td>1.49</td>\n",
              "    </tr>\n",
              "    <tr>\n",
              "      <th>2</th>\n",
              "      <td>4</td>\n",
              "      <td>4.46</td>\n",
              "    </tr>\n",
              "    <tr>\n",
              "      <th>3</th>\n",
              "      <td>10</td>\n",
              "      <td>8.92</td>\n",
              "    </tr>\n",
              "    <tr>\n",
              "      <th>4</th>\n",
              "      <td>14</td>\n",
              "      <td>13.39</td>\n",
              "    </tr>\n",
              "    <tr>\n",
              "      <th>5</th>\n",
              "      <td>20</td>\n",
              "      <td>16.06</td>\n",
              "    </tr>\n",
              "    <tr>\n",
              "      <th>6</th>\n",
              "      <td>12</td>\n",
              "      <td>16.06</td>\n",
              "    </tr>\n",
              "    <tr>\n",
              "      <th>7</th>\n",
              "      <td>12</td>\n",
              "      <td>13.77</td>\n",
              "    </tr>\n",
              "    <tr>\n",
              "      <th>8</th>\n",
              "      <td>9</td>\n",
              "      <td>10.33</td>\n",
              "    </tr>\n",
              "    <tr>\n",
              "      <th>9</th>\n",
              "      <td>8</td>\n",
              "      <td>6.88</td>\n",
              "    </tr>\n",
              "    <tr>\n",
              "      <th>10</th>\n",
              "      <td>6</td>\n",
              "      <td>4.13</td>\n",
              "    </tr>\n",
              "    <tr>\n",
              "      <th>11</th>\n",
              "      <td>3</td>\n",
              "      <td>2.25</td>\n",
              "    </tr>\n",
              "    <tr>\n",
              "      <th>12</th>\n",
              "      <td>1</td>\n",
              "      <td>1.13</td>\n",
              "    </tr>\n",
              "  </tbody>\n",
              "</table>\n",
              "</div>"
            ],
            "text/plain": [
              "    Observed Frequency  Expected Frequency\n",
              "0                    0                0.25\n",
              "1                    1                1.49\n",
              "2                    4                4.46\n",
              "3                   10                8.92\n",
              "4                   14               13.39\n",
              "5                   20               16.06\n",
              "6                   12               16.06\n",
              "7                   12               13.77\n",
              "8                    9               10.33\n",
              "9                    8                6.88\n",
              "10                   6                4.13\n",
              "11                   3                2.25\n",
              "12                   1                1.13"
            ]
          },
          "metadata": {
            "tags": []
          },
          "execution_count": 10
        }
      ]
    },
    {
      "cell_type": "code",
      "metadata": {
        "id": "3tUSNVwuZA8L",
        "colab_type": "code",
        "colab": {}
      },
      "source": [
        "obs_freq=[5,10,14,20,12,12,9,8,10]\n",
        "expected_freq=[6.2,8.92,13.39,16.06,16.06,13.77,10.33,6.88,8.39]"
      ],
      "execution_count": 0,
      "outputs": []
    },
    {
      "cell_type": "code",
      "metadata": {
        "id": "SbqzEEjgZexM",
        "colab_type": "code",
        "colab": {
          "base_uri": "https://localhost:8080/",
          "height": 34
        },
        "outputId": "883cf8eb-d166-493f-996a-de4753306658"
      },
      "source": [
        "scipy.stats.chisquare(obs_freq,expected_freq)"
      ],
      "execution_count": 12,
      "outputs": [
        {
          "output_type": "execute_result",
          "data": {
            "text/plain": [
              "Power_divergenceResult(statistic=3.2738182931105193, pvalue=0.916017731732134)"
            ]
          },
          "metadata": {
            "tags": []
          },
          "execution_count": 12
        }
      ]
    }
  ]
}