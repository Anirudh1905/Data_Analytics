{
  "nbformat": 4,
  "nbformat_minor": 0,
  "metadata": {
    "colab": {
      "name": "Chi_N.ipynb",
      "provenance": [],
      "authorship_tag": "ABX9TyOr6GITFQVH/4zrn1mt0fXj",
      "include_colab_link": true
    },
    "kernelspec": {
      "name": "python3",
      "display_name": "Python 3"
    }
  },
  "cells": [
    {
      "cell_type": "markdown",
      "metadata": {
        "id": "view-in-github",
        "colab_type": "text"
      },
      "source": [
        "<a href=\"https://colab.research.google.com/github/Anirudh1905/Data_Analytics/blob/master/Chi_N.ipynb\" target=\"_parent\"><img src=\"https://colab.research.google.com/assets/colab-badge.svg\" alt=\"Open In Colab\"/></a>"
      ]
    },
    {
      "cell_type": "code",
      "metadata": {
        "id": "h-kRwar23OHL",
        "colab_type": "code",
        "colab": {}
      },
      "source": [
        "import scipy\n",
        "from scipy.stats import chi2\n",
        "from scipy.stats import poisson\n",
        "import pandas as pd\n",
        "import numpy as np"
      ],
      "execution_count": 0,
      "outputs": []
    },
    {
      "cell_type": "code",
      "metadata": {
        "id": "OdkQj9vu3gGT",
        "colab_type": "code",
        "colab": {}
      },
      "source": [
        "A=[33,43,44,45,52,52,56,58,63,64,64,65,66,68,70,72,73,73,74,75,83,84,85,86,91,92,94,98,102,105]"
      ],
      "execution_count": 0,
      "outputs": []
    },
    {
      "cell_type": "code",
      "metadata": {
        "id": "USgvySEZ5oNr",
        "colab_type": "code",
        "colab": {
          "base_uri": "https://localhost:8080/",
          "height": 34
        },
        "outputId": "350a0d3d-d38d-42cf-cdd6-651d992619f3"
      },
      "source": [
        "mean=np.mean(A)\n",
        "mean"
      ],
      "execution_count": 4,
      "outputs": [
        {
          "output_type": "execute_result",
          "data": {
            "text/plain": [
              "71.0"
            ]
          },
          "metadata": {
            "tags": []
          },
          "execution_count": 4
        }
      ]
    },
    {
      "cell_type": "code",
      "metadata": {
        "id": "J4HZzpP75sYg",
        "colab_type": "code",
        "colab": {
          "base_uri": "https://localhost:8080/",
          "height": 34
        },
        "outputId": "4f748ebc-1483-4397-cf95-19cde5684d36"
      },
      "source": [
        "sd=np.std(A)\n",
        "sd"
      ],
      "execution_count": 5,
      "outputs": [
        {
          "output_type": "execute_result",
          "data": {
            "text/plain": [
              "18.226354544998845"
            ]
          },
          "metadata": {
            "tags": []
          },
          "execution_count": 5
        }
      ]
    },
    {
      "cell_type": "code",
      "metadata": {
        "id": "I8Bbyg4h5zK8",
        "colab_type": "code",
        "colab": {
          "base_uri": "https://localhost:8080/",
          "height": 102
        },
        "outputId": "5593031e-230f-4d20-aefa-1f75ab420e8d"
      },
      "source": [
        "x=1/6\n",
        "for j in range(1,6):\n",
        "  interval=[scipy.stats.norm.ppf(j*x,mean,sd)]\n",
        "  print(interval)"
      ],
      "execution_count": 6,
      "outputs": [
        {
          "output_type": "stream",
          "text": [
            "[53.36743154175236]\n",
            "[63.14941153083116]\n",
            "[71.0]\n",
            "[78.85058846916884]\n",
            "[88.63256845824763]\n"
          ],
          "name": "stdout"
        }
      ]
    },
    {
      "cell_type": "code",
      "metadata": {
        "id": "2LgrXkJK6HG1",
        "colab_type": "code",
        "colab": {}
      },
      "source": [
        "Exp_f=[5,5,5,5,5,5]"
      ],
      "execution_count": 0,
      "outputs": []
    },
    {
      "cell_type": "code",
      "metadata": {
        "id": "tiPDI2WW6TQ3",
        "colab_type": "code",
        "colab": {}
      },
      "source": [
        "Obs_f=[6,3,6,5,4,6]"
      ],
      "execution_count": 0,
      "outputs": []
    },
    {
      "cell_type": "code",
      "metadata": {
        "id": "h8oDQMvs6YCJ",
        "colab_type": "code",
        "colab": {
          "base_uri": "https://localhost:8080/",
          "height": 34
        },
        "outputId": "af149522-c8fa-40bf-afe2-809103fe5a72"
      },
      "source": [
        "scipy.stats.chisquare(Obs_f,Exp_f)"
      ],
      "execution_count": 9,
      "outputs": [
        {
          "output_type": "execute_result",
          "data": {
            "text/plain": [
              "Power_divergenceResult(statistic=1.5999999999999999, pvalue=0.9012493445012737)"
            ]
          },
          "metadata": {
            "tags": []
          },
          "execution_count": 9
        }
      ]
    },
    {
      "cell_type": "code",
      "metadata": {
        "id": "rPsp2bTL6fmt",
        "colab_type": "code",
        "colab": {
          "base_uri": "https://localhost:8080/",
          "height": 34
        },
        "outputId": "d916d72a-30a9-49ce-b568-347f73e3bfe6"
      },
      "source": [
        "chi2.ppf(.95,3)"
      ],
      "execution_count": 10,
      "outputs": [
        {
          "output_type": "execute_result",
          "data": {
            "text/plain": [
              "7.814727903251179"
            ]
          },
          "metadata": {
            "tags": []
          },
          "execution_count": 10
        }
      ]
    }
  ]
}