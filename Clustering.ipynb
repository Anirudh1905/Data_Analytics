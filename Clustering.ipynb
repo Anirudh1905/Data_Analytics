{
  "nbformat": 4,
  "nbformat_minor": 0,
  "metadata": {
    "colab": {
      "name": "Clustering",
      "provenance": [],
      "authorship_tag": "ABX9TyPpmCdaipfV1R7DzwYOJ57V",
      "include_colab_link": true
    },
    "kernelspec": {
      "name": "python3",
      "display_name": "Python 3"
    }
  },
  "cells": [
    {
      "cell_type": "markdown",
      "metadata": {
        "id": "view-in-github",
        "colab_type": "text"
      },
      "source": [
        "<a href=\"https://colab.research.google.com/github/Anirudh1905/Data_Analytics/blob/master/Clustering.ipynb\" target=\"_parent\"><img src=\"https://colab.research.google.com/assets/colab-badge.svg\" alt=\"Open In Colab\"/></a>"
      ]
    },
    {
      "cell_type": "code",
      "metadata": {
        "id": "g9lsbN5A5zex",
        "colab_type": "code",
        "colab": {}
      },
      "source": [
        "import pandas as pd\n",
        "from scipy.spatial import distance_matrix "
      ],
      "execution_count": 0,
      "outputs": []
    },
    {
      "cell_type": "code",
      "metadata": {
        "id": "MMaN1yUi6UlO",
        "colab_type": "code",
        "outputId": "15ab2f31-e7ba-449a-ef6a-a2e96e29fcf9",
        "colab": {
          "base_uri": "https://localhost:8080/",
          "height": 316
        }
      },
      "source": [
        "df=pd.read_excel('/content/drive/My Drive/Colab Notebooks/distance.xlsx')\n",
        "df.set_index(['Person'],inplace=True)\n",
        "df"
      ],
      "execution_count": 62,
      "outputs": [
        {
          "output_type": "execute_result",
          "data": {
            "text/html": [
              "<div>\n",
              "<style scoped>\n",
              "    .dataframe tbody tr th:only-of-type {\n",
              "        vertical-align: middle;\n",
              "    }\n",
              "\n",
              "    .dataframe tbody tr th {\n",
              "        vertical-align: top;\n",
              "    }\n",
              "\n",
              "    .dataframe thead th {\n",
              "        text-align: right;\n",
              "    }\n",
              "</style>\n",
              "<table border=\"1\" class=\"dataframe\">\n",
              "  <thead>\n",
              "    <tr style=\"text-align: right;\">\n",
              "      <th></th>\n",
              "      <th>Weight(Kg)</th>\n",
              "      <th>Height(cm)</th>\n",
              "    </tr>\n",
              "    <tr>\n",
              "      <th>Person</th>\n",
              "      <th></th>\n",
              "      <th></th>\n",
              "    </tr>\n",
              "  </thead>\n",
              "  <tbody>\n",
              "    <tr>\n",
              "      <th>A</th>\n",
              "      <td>15</td>\n",
              "      <td>95</td>\n",
              "    </tr>\n",
              "    <tr>\n",
              "      <th>B</th>\n",
              "      <td>49</td>\n",
              "      <td>156</td>\n",
              "    </tr>\n",
              "    <tr>\n",
              "      <th>C</th>\n",
              "      <td>13</td>\n",
              "      <td>95</td>\n",
              "    </tr>\n",
              "    <tr>\n",
              "      <th>D</th>\n",
              "      <td>45</td>\n",
              "      <td>160</td>\n",
              "    </tr>\n",
              "    <tr>\n",
              "      <th>E</th>\n",
              "      <td>85</td>\n",
              "      <td>178</td>\n",
              "    </tr>\n",
              "    <tr>\n",
              "      <th>F</th>\n",
              "      <td>66</td>\n",
              "      <td>176</td>\n",
              "    </tr>\n",
              "    <tr>\n",
              "      <th>G</th>\n",
              "      <td>12</td>\n",
              "      <td>90</td>\n",
              "    </tr>\n",
              "    <tr>\n",
              "      <th>H</th>\n",
              "      <td>10</td>\n",
              "      <td>78</td>\n",
              "    </tr>\n",
              "  </tbody>\n",
              "</table>\n",
              "</div>"
            ],
            "text/plain": [
              "        Weight(Kg)  Height(cm)\n",
              "Person                        \n",
              "A               15          95\n",
              "B               49         156\n",
              "C               13          95\n",
              "D               45         160\n",
              "E               85         178\n",
              "F               66         176\n",
              "G               12          90\n",
              "H               10          78"
            ]
          },
          "metadata": {
            "tags": []
          },
          "execution_count": 62
        }
      ]
    },
    {
      "cell_type": "code",
      "metadata": {
        "id": "StJFJVAX6xQv",
        "colab_type": "code",
        "outputId": "891d57d2-e867-4e11-e189-229eb89d4875",
        "colab": {
          "base_uri": "https://localhost:8080/",
          "height": 316
        }
      },
      "source": [
        "Distance_matrix=pd.DataFrame(distance_matrix(df.values,df.values),index=df.index,columns=df.index)\n",
        "Distance_matrix"
      ],
      "execution_count": 63,
      "outputs": [
        {
          "output_type": "execute_result",
          "data": {
            "text/html": [
              "<div>\n",
              "<style scoped>\n",
              "    .dataframe tbody tr th:only-of-type {\n",
              "        vertical-align: middle;\n",
              "    }\n",
              "\n",
              "    .dataframe tbody tr th {\n",
              "        vertical-align: top;\n",
              "    }\n",
              "\n",
              "    .dataframe thead th {\n",
              "        text-align: right;\n",
              "    }\n",
              "</style>\n",
              "<table border=\"1\" class=\"dataframe\">\n",
              "  <thead>\n",
              "    <tr style=\"text-align: right;\">\n",
              "      <th>Person</th>\n",
              "      <th>A</th>\n",
              "      <th>B</th>\n",
              "      <th>C</th>\n",
              "      <th>D</th>\n",
              "      <th>E</th>\n",
              "      <th>F</th>\n",
              "      <th>G</th>\n",
              "      <th>H</th>\n",
              "    </tr>\n",
              "    <tr>\n",
              "      <th>Person</th>\n",
              "      <th></th>\n",
              "      <th></th>\n",
              "      <th></th>\n",
              "      <th></th>\n",
              "      <th></th>\n",
              "      <th></th>\n",
              "      <th></th>\n",
              "      <th></th>\n",
              "    </tr>\n",
              "  </thead>\n",
              "  <tbody>\n",
              "    <tr>\n",
              "      <th>A</th>\n",
              "      <td>0.000000</td>\n",
              "      <td>69.835521</td>\n",
              "      <td>2.000000</td>\n",
              "      <td>71.589105</td>\n",
              "      <td>108.577162</td>\n",
              "      <td>95.718337</td>\n",
              "      <td>5.830952</td>\n",
              "      <td>17.720045</td>\n",
              "    </tr>\n",
              "    <tr>\n",
              "      <th>B</th>\n",
              "      <td>69.835521</td>\n",
              "      <td>0.000000</td>\n",
              "      <td>70.830784</td>\n",
              "      <td>5.656854</td>\n",
              "      <td>42.190046</td>\n",
              "      <td>26.248809</td>\n",
              "      <td>75.663730</td>\n",
              "      <td>87.206651</td>\n",
              "    </tr>\n",
              "    <tr>\n",
              "      <th>C</th>\n",
              "      <td>2.000000</td>\n",
              "      <td>70.830784</td>\n",
              "      <td>0.000000</td>\n",
              "      <td>72.449983</td>\n",
              "      <td>109.877204</td>\n",
              "      <td>96.798760</td>\n",
              "      <td>5.099020</td>\n",
              "      <td>17.262677</td>\n",
              "    </tr>\n",
              "    <tr>\n",
              "      <th>D</th>\n",
              "      <td>71.589105</td>\n",
              "      <td>5.656854</td>\n",
              "      <td>72.449983</td>\n",
              "      <td>0.000000</td>\n",
              "      <td>43.863424</td>\n",
              "      <td>26.400758</td>\n",
              "      <td>77.388630</td>\n",
              "      <td>89.157165</td>\n",
              "    </tr>\n",
              "    <tr>\n",
              "      <th>E</th>\n",
              "      <td>108.577162</td>\n",
              "      <td>42.190046</td>\n",
              "      <td>109.877204</td>\n",
              "      <td>43.863424</td>\n",
              "      <td>0.000000</td>\n",
              "      <td>19.104973</td>\n",
              "      <td>114.337221</td>\n",
              "      <td>125.000000</td>\n",
              "    </tr>\n",
              "    <tr>\n",
              "      <th>F</th>\n",
              "      <td>95.718337</td>\n",
              "      <td>26.248809</td>\n",
              "      <td>96.798760</td>\n",
              "      <td>26.400758</td>\n",
              "      <td>19.104973</td>\n",
              "      <td>0.000000</td>\n",
              "      <td>101.548018</td>\n",
              "      <td>112.871608</td>\n",
              "    </tr>\n",
              "    <tr>\n",
              "      <th>G</th>\n",
              "      <td>5.830952</td>\n",
              "      <td>75.663730</td>\n",
              "      <td>5.099020</td>\n",
              "      <td>77.388630</td>\n",
              "      <td>114.337221</td>\n",
              "      <td>101.548018</td>\n",
              "      <td>0.000000</td>\n",
              "      <td>12.165525</td>\n",
              "    </tr>\n",
              "    <tr>\n",
              "      <th>H</th>\n",
              "      <td>17.720045</td>\n",
              "      <td>87.206651</td>\n",
              "      <td>17.262677</td>\n",
              "      <td>89.157165</td>\n",
              "      <td>125.000000</td>\n",
              "      <td>112.871608</td>\n",
              "      <td>12.165525</td>\n",
              "      <td>0.000000</td>\n",
              "    </tr>\n",
              "  </tbody>\n",
              "</table>\n",
              "</div>"
            ],
            "text/plain": [
              "Person           A          B           C  ...           F           G           H\n",
              "Person                                     ...                                    \n",
              "A         0.000000  69.835521    2.000000  ...   95.718337    5.830952   17.720045\n",
              "B        69.835521   0.000000   70.830784  ...   26.248809   75.663730   87.206651\n",
              "C         2.000000  70.830784    0.000000  ...   96.798760    5.099020   17.262677\n",
              "D        71.589105   5.656854   72.449983  ...   26.400758   77.388630   89.157165\n",
              "E       108.577162  42.190046  109.877204  ...   19.104973  114.337221  125.000000\n",
              "F        95.718337  26.248809   96.798760  ...    0.000000  101.548018  112.871608\n",
              "G         5.830952  75.663730    5.099020  ...  101.548018    0.000000   12.165525\n",
              "H        17.720045  87.206651   17.262677  ...  112.871608   12.165525    0.000000\n",
              "\n",
              "[8 rows x 8 columns]"
            ]
          },
          "metadata": {
            "tags": []
          },
          "execution_count": 63
        }
      ]
    },
    {
      "cell_type": "code",
      "metadata": {
        "id": "UociVpdV7HXu",
        "colab_type": "code",
        "colab": {
          "base_uri": "https://localhost:8080/",
          "height": 316
        },
        "outputId": "3a7d0996-f0fd-469d-cfb6-0088d4d6294e"
      },
      "source": [
        "Distance_matrix.round(decimals=1)"
      ],
      "execution_count": 64,
      "outputs": [
        {
          "output_type": "execute_result",
          "data": {
            "text/html": [
              "<div>\n",
              "<style scoped>\n",
              "    .dataframe tbody tr th:only-of-type {\n",
              "        vertical-align: middle;\n",
              "    }\n",
              "\n",
              "    .dataframe tbody tr th {\n",
              "        vertical-align: top;\n",
              "    }\n",
              "\n",
              "    .dataframe thead th {\n",
              "        text-align: right;\n",
              "    }\n",
              "</style>\n",
              "<table border=\"1\" class=\"dataframe\">\n",
              "  <thead>\n",
              "    <tr style=\"text-align: right;\">\n",
              "      <th>Person</th>\n",
              "      <th>A</th>\n",
              "      <th>B</th>\n",
              "      <th>C</th>\n",
              "      <th>D</th>\n",
              "      <th>E</th>\n",
              "      <th>F</th>\n",
              "      <th>G</th>\n",
              "      <th>H</th>\n",
              "    </tr>\n",
              "    <tr>\n",
              "      <th>Person</th>\n",
              "      <th></th>\n",
              "      <th></th>\n",
              "      <th></th>\n",
              "      <th></th>\n",
              "      <th></th>\n",
              "      <th></th>\n",
              "      <th></th>\n",
              "      <th></th>\n",
              "    </tr>\n",
              "  </thead>\n",
              "  <tbody>\n",
              "    <tr>\n",
              "      <th>A</th>\n",
              "      <td>0.0</td>\n",
              "      <td>69.8</td>\n",
              "      <td>2.0</td>\n",
              "      <td>71.6</td>\n",
              "      <td>108.6</td>\n",
              "      <td>95.7</td>\n",
              "      <td>5.8</td>\n",
              "      <td>17.7</td>\n",
              "    </tr>\n",
              "    <tr>\n",
              "      <th>B</th>\n",
              "      <td>69.8</td>\n",
              "      <td>0.0</td>\n",
              "      <td>70.8</td>\n",
              "      <td>5.7</td>\n",
              "      <td>42.2</td>\n",
              "      <td>26.2</td>\n",
              "      <td>75.7</td>\n",
              "      <td>87.2</td>\n",
              "    </tr>\n",
              "    <tr>\n",
              "      <th>C</th>\n",
              "      <td>2.0</td>\n",
              "      <td>70.8</td>\n",
              "      <td>0.0</td>\n",
              "      <td>72.4</td>\n",
              "      <td>109.9</td>\n",
              "      <td>96.8</td>\n",
              "      <td>5.1</td>\n",
              "      <td>17.3</td>\n",
              "    </tr>\n",
              "    <tr>\n",
              "      <th>D</th>\n",
              "      <td>71.6</td>\n",
              "      <td>5.7</td>\n",
              "      <td>72.4</td>\n",
              "      <td>0.0</td>\n",
              "      <td>43.9</td>\n",
              "      <td>26.4</td>\n",
              "      <td>77.4</td>\n",
              "      <td>89.2</td>\n",
              "    </tr>\n",
              "    <tr>\n",
              "      <th>E</th>\n",
              "      <td>108.6</td>\n",
              "      <td>42.2</td>\n",
              "      <td>109.9</td>\n",
              "      <td>43.9</td>\n",
              "      <td>0.0</td>\n",
              "      <td>19.1</td>\n",
              "      <td>114.3</td>\n",
              "      <td>125.0</td>\n",
              "    </tr>\n",
              "    <tr>\n",
              "      <th>F</th>\n",
              "      <td>95.7</td>\n",
              "      <td>26.2</td>\n",
              "      <td>96.8</td>\n",
              "      <td>26.4</td>\n",
              "      <td>19.1</td>\n",
              "      <td>0.0</td>\n",
              "      <td>101.5</td>\n",
              "      <td>112.9</td>\n",
              "    </tr>\n",
              "    <tr>\n",
              "      <th>G</th>\n",
              "      <td>5.8</td>\n",
              "      <td>75.7</td>\n",
              "      <td>5.1</td>\n",
              "      <td>77.4</td>\n",
              "      <td>114.3</td>\n",
              "      <td>101.5</td>\n",
              "      <td>0.0</td>\n",
              "      <td>12.2</td>\n",
              "    </tr>\n",
              "    <tr>\n",
              "      <th>H</th>\n",
              "      <td>17.7</td>\n",
              "      <td>87.2</td>\n",
              "      <td>17.3</td>\n",
              "      <td>89.2</td>\n",
              "      <td>125.0</td>\n",
              "      <td>112.9</td>\n",
              "      <td>12.2</td>\n",
              "      <td>0.0</td>\n",
              "    </tr>\n",
              "  </tbody>\n",
              "</table>\n",
              "</div>"
            ],
            "text/plain": [
              "Person      A     B      C     D      E      F      G      H\n",
              "Person                                                      \n",
              "A         0.0  69.8    2.0  71.6  108.6   95.7    5.8   17.7\n",
              "B        69.8   0.0   70.8   5.7   42.2   26.2   75.7   87.2\n",
              "C         2.0  70.8    0.0  72.4  109.9   96.8    5.1   17.3\n",
              "D        71.6   5.7   72.4   0.0   43.9   26.4   77.4   89.2\n",
              "E       108.6  42.2  109.9  43.9    0.0   19.1  114.3  125.0\n",
              "F        95.7  26.2   96.8  26.4   19.1    0.0  101.5  112.9\n",
              "G         5.8  75.7    5.1  77.4  114.3  101.5    0.0   12.2\n",
              "H        17.7  87.2   17.3  89.2  125.0  112.9   12.2    0.0"
            ]
          },
          "metadata": {
            "tags": []
          },
          "execution_count": 64
        }
      ]
    },
    {
      "cell_type": "code",
      "metadata": {
        "id": "55JFmyu-I3cp",
        "colab_type": "code",
        "colab": {
          "base_uri": "https://localhost:8080/",
          "height": 34
        },
        "outputId": "3b60fc73-67eb-4fe1-ec3b-13f68afd5dd5"
      },
      "source": [
        "import numpy as np\n",
        "from scipy.spatial import distance\n",
        "a=[1,2,3]\n",
        "b=[4,5,6]\n",
        "d=distance.euclidean(a,b)\n",
        "d"
      ],
      "execution_count": 66,
      "outputs": [
        {
          "output_type": "execute_result",
          "data": {
            "text/plain": [
              "5.196152422706632"
            ]
          },
          "metadata": {
            "tags": []
          },
          "execution_count": 66
        }
      ]
    },
    {
      "cell_type": "code",
      "metadata": {
        "id": "VxHo14KnKBO3",
        "colab_type": "code",
        "colab": {
          "base_uri": "https://localhost:8080/",
          "height": 34
        },
        "outputId": "6355b422-0720-491b-9f20-493a0bd4efbd"
      },
      "source": [
        "distance.minkowski(a,b,1) #Manhattan"
      ],
      "execution_count": 67,
      "outputs": [
        {
          "output_type": "execute_result",
          "data": {
            "text/plain": [
              "9.0"
            ]
          },
          "metadata": {
            "tags": []
          },
          "execution_count": 67
        }
      ]
    },
    {
      "cell_type": "code",
      "metadata": {
        "id": "Jj76I94qKWFR",
        "colab_type": "code",
        "colab": {
          "base_uri": "https://localhost:8080/",
          "height": 34
        },
        "outputId": "090ffd8c-bafb-47ac-e74d-2840f33f3b4d"
      },
      "source": [
        "distance.minkowski(a,b,2) #Euclidean"
      ],
      "execution_count": 68,
      "outputs": [
        {
          "output_type": "execute_result",
          "data": {
            "text/plain": [
              "5.196152422706632"
            ]
          },
          "metadata": {
            "tags": []
          },
          "execution_count": 68
        }
      ]
    },
    {
      "cell_type": "code",
      "metadata": {
        "id": "9VbirHsCKghC",
        "colab_type": "code",
        "colab": {
          "base_uri": "https://localhost:8080/",
          "height": 34
        },
        "outputId": "de932b23-746d-4818-dacc-6e64cf1e19f4"
      },
      "source": [
        "distance.minkowski(a,b,3)"
      ],
      "execution_count": 69,
      "outputs": [
        {
          "output_type": "execute_result",
          "data": {
            "text/plain": [
              "4.3267487109222245"
            ]
          },
          "metadata": {
            "tags": []
          },
          "execution_count": 69
        }
      ]
    },
    {
      "cell_type": "code",
      "metadata": {
        "id": "VwfKxrtmKs5_",
        "colab_type": "code",
        "colab": {
          "base_uri": "https://localhost:8080/",
          "height": 137
        },
        "outputId": "c7818f00-81aa-4ecb-f4dd-0f17006c3187"
      },
      "source": [
        "data=[[1,4],[2,5],[3,6]]\n",
        "df=pd.DataFrame(data,columns=['a','b'])\n",
        "df"
      ],
      "execution_count": 70,
      "outputs": [
        {
          "output_type": "execute_result",
          "data": {
            "text/html": [
              "<div>\n",
              "<style scoped>\n",
              "    .dataframe tbody tr th:only-of-type {\n",
              "        vertical-align: middle;\n",
              "    }\n",
              "\n",
              "    .dataframe tbody tr th {\n",
              "        vertical-align: top;\n",
              "    }\n",
              "\n",
              "    .dataframe thead th {\n",
              "        text-align: right;\n",
              "    }\n",
              "</style>\n",
              "<table border=\"1\" class=\"dataframe\">\n",
              "  <thead>\n",
              "    <tr style=\"text-align: right;\">\n",
              "      <th></th>\n",
              "      <th>a</th>\n",
              "      <th>b</th>\n",
              "    </tr>\n",
              "  </thead>\n",
              "  <tbody>\n",
              "    <tr>\n",
              "      <th>0</th>\n",
              "      <td>1</td>\n",
              "      <td>4</td>\n",
              "    </tr>\n",
              "    <tr>\n",
              "      <th>1</th>\n",
              "      <td>2</td>\n",
              "      <td>5</td>\n",
              "    </tr>\n",
              "    <tr>\n",
              "      <th>2</th>\n",
              "      <td>3</td>\n",
              "      <td>6</td>\n",
              "    </tr>\n",
              "  </tbody>\n",
              "</table>\n",
              "</div>"
            ],
            "text/plain": [
              "   a  b\n",
              "0  1  4\n",
              "1  2  5\n",
              "2  3  6"
            ]
          },
          "metadata": {
            "tags": []
          },
          "execution_count": 70
        }
      ]
    },
    {
      "cell_type": "code",
      "metadata": {
        "id": "DR91q4GxLG1j",
        "colab_type": "code",
        "colab": {
          "base_uri": "https://localhost:8080/",
          "height": 137
        },
        "outputId": "3eae2b78-1b07-4836-8bff-f4082c93d380"
      },
      "source": [
        "pd.DataFrame(distance_matrix(df.values,df.values))"
      ],
      "execution_count": 71,
      "outputs": [
        {
          "output_type": "execute_result",
          "data": {
            "text/html": [
              "<div>\n",
              "<style scoped>\n",
              "    .dataframe tbody tr th:only-of-type {\n",
              "        vertical-align: middle;\n",
              "    }\n",
              "\n",
              "    .dataframe tbody tr th {\n",
              "        vertical-align: top;\n",
              "    }\n",
              "\n",
              "    .dataframe thead th {\n",
              "        text-align: right;\n",
              "    }\n",
              "</style>\n",
              "<table border=\"1\" class=\"dataframe\">\n",
              "  <thead>\n",
              "    <tr style=\"text-align: right;\">\n",
              "      <th></th>\n",
              "      <th>0</th>\n",
              "      <th>1</th>\n",
              "      <th>2</th>\n",
              "    </tr>\n",
              "  </thead>\n",
              "  <tbody>\n",
              "    <tr>\n",
              "      <th>0</th>\n",
              "      <td>0.000000</td>\n",
              "      <td>1.414214</td>\n",
              "      <td>2.828427</td>\n",
              "    </tr>\n",
              "    <tr>\n",
              "      <th>1</th>\n",
              "      <td>1.414214</td>\n",
              "      <td>0.000000</td>\n",
              "      <td>1.414214</td>\n",
              "    </tr>\n",
              "    <tr>\n",
              "      <th>2</th>\n",
              "      <td>2.828427</td>\n",
              "      <td>1.414214</td>\n",
              "      <td>0.000000</td>\n",
              "    </tr>\n",
              "  </tbody>\n",
              "</table>\n",
              "</div>"
            ],
            "text/plain": [
              "          0         1         2\n",
              "0  0.000000  1.414214  2.828427\n",
              "1  1.414214  0.000000  1.414214\n",
              "2  2.828427  1.414214  0.000000"
            ]
          },
          "metadata": {
            "tags": []
          },
          "execution_count": 71
        }
      ]
    }
  ]
}