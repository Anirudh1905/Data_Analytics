{
  "nbformat": 4,
  "nbformat_minor": 0,
  "metadata": {
    "colab": {
      "name": "LOG_REG1.ipynb",
      "provenance": [],
      "mount_file_id": "14eDqxFghhyU5ik9WOyDXQRuIbWlV8PAP",
      "authorship_tag": "ABX9TyPxUEl4o6SbRBgCT3cTNFaO",
      "include_colab_link": true
    },
    "kernelspec": {
      "name": "python3",
      "display_name": "Python 3"
    }
  },
  "cells": [
    {
      "cell_type": "markdown",
      "metadata": {
        "id": "view-in-github",
        "colab_type": "text"
      },
      "source": [
        "<a href=\"https://colab.research.google.com/github/Anirudh1905/Data_Analytics/blob/master/LOG_REG1.ipynb\" target=\"_parent\"><img src=\"https://colab.research.google.com/assets/colab-badge.svg\" alt=\"Open In Colab\"/></a>"
      ]
    },
    {
      "cell_type": "code",
      "metadata": {
        "id": "dh9SYi2qPUiB",
        "colab_type": "code",
        "colab": {}
      },
      "source": [
        "from google.colab import drive\n",
        "import pandas as pd\n",
        "import numpy as np\n",
        "import matplotlib.pyplot as plt\n",
        "from sklearn import linear_model\n",
        "import statsmodels.api as sm\n",
        "from sklearn.metrics import mean_squared_error"
      ],
      "execution_count": 0,
      "outputs": []
    },
    {
      "cell_type": "code",
      "metadata": {
        "id": "0rfAKRH9Pz6G",
        "colab_type": "code",
        "colab": {}
      },
      "source": [
        "df=pd.read_excel('/content/drive/My Drive/Colab Notebooks/Simmons.xls')"
      ],
      "execution_count": 0,
      "outputs": []
    },
    {
      "cell_type": "code",
      "metadata": {
        "id": "EjyDWFtfQfZK",
        "colab_type": "code",
        "colab": {
          "base_uri": "https://localhost:8080/",
          "height": 282
        },
        "outputId": "632b2ff2-331d-4c0a-f2af-daff4c2ef377"
      },
      "source": [
        "plt.scatter(df.Spending,df.Coupon,marker='+',color='red')"
      ],
      "execution_count": 4,
      "outputs": [
        {
          "output_type": "execute_result",
          "data": {
            "text/plain": [
              "<matplotlib.collections.PathCollection at 0x7fc0c059c358>"
            ]
          },
          "metadata": {
            "tags": []
          },
          "execution_count": 4
        },
        {
          "output_type": "display_data",
          "data": {
            "image/png": "[encoded data removed]",
            "text/plain": [
              "<Figure size 432x288 with 1 Axes>"
            ]
          },
          "metadata": {
            "tags": []
          }
        }
      ]
    },
    {
      "cell_type": "code",
      "metadata": {
        "id": "MfdffJ6sQsbu",
        "colab_type": "code",
        "colab": {
          "base_uri": "https://localhost:8080/",
          "height": 344
        },
        "outputId": "ac9b066d-49c5-4081-d37f-619567355711"
      },
      "source": [
        "x=df[['Card','Spending']]\n",
        "y=df['Coupon']\n",
        "x1=sm.add_constant(x)\n",
        "logit_model=sm.Logit(y,x1)\n",
        "result=logit_model.fit()\n",
        "result.summary2()"
      ],
      "execution_count": 5,
      "outputs": [
        {
          "output_type": "stream",
          "text": [
            "Optimization terminated successfully.\n",
            "         Current function value: 0.604869\n",
            "         Iterations 5\n"
          ],
          "name": "stdout"
        },
        {
          "output_type": "stream",
          "text": [
            "/usr/local/lib/python3.6/dist-packages/numpy/core/fromnumeric.py:2495: FutureWarning: Method .ptp is deprecated and will be removed in a future version. Use numpy.ptp instead.\n",
            "  return ptp(axis=axis, out=out, **kwargs)\n"
          ],
          "name": "stderr"
        },
        {
          "output_type": "execute_result",
          "data": {
            "text/html": [
              "<table class=\"simpletable\">\n",
              "<tr>\n",
              "        <td>Model:</td>              <td>Logit</td>      <td>Pseudo R-squared:</td>   <td>0.101</td>  \n",
              "</tr>\n",
              "<tr>\n",
              "  <td>Dependent Variable:</td>      <td>Coupon</td>            <td>AIC:</td>        <td>126.9739</td> \n",
              "</tr>\n",
              "<tr>\n",
              "         <td>Date:</td>        <td>2020-03-14 06:06</td>       <td>BIC:</td>        <td>134.7894</td> \n",
              "</tr>\n",
              "<tr>\n",
              "   <td>No. Observations:</td>         <td>100</td>        <td>Log-Likelihood:</td>   <td>-60.487</td> \n",
              "</tr>\n",
              "<tr>\n",
              "       <td>Df Model:</td>              <td>2</td>            <td>LL-Null:</td>       <td>-67.301</td> \n",
              "</tr>\n",
              "<tr>\n",
              "     <td>Df Residuals:</td>           <td>97</td>          <td>LLR p-value:</td>    <td>0.0010981</td>\n",
              "</tr>\n",
              "<tr>\n",
              "      <td>Converged:</td>           <td>1.0000</td>           <td>Scale:</td>        <td>1.0000</td>  \n",
              "</tr>\n",
              "<tr>\n",
              "    <td>No. Iterations:</td>        <td>5.0000</td>              <td></td>              <td></td>     \n",
              "</tr>\n",
              "</table>\n",
              "<table class=\"simpletable\">\n",
              "<tr>\n",
              "      <td></td>      <th>Coef.</th>  <th>Std.Err.</th>    <th>z</th>     <th>P>|z|</th> <th>[0.025</th>  <th>0.975]</th> \n",
              "</tr>\n",
              "<tr>\n",
              "  <th>const</th>    <td>-2.1464</td>  <td>0.5772</td>  <td>-3.7183</td> <td>0.0002</td> <td>-3.2778</td> <td>-1.0150</td>\n",
              "</tr>\n",
              "<tr>\n",
              "  <th>Card</th>     <td>1.0987</td>   <td>0.4447</td>  <td>2.4707</td>  <td>0.0135</td> <td>0.2271</td>  <td>1.9703</td> \n",
              "</tr>\n",
              "<tr>\n",
              "  <th>Spending</th> <td>0.3416</td>   <td>0.1287</td>  <td>2.6551</td>  <td>0.0079</td> <td>0.0894</td>  <td>0.5938</td> \n",
              "</tr>\n",
              "</table>"
            ],
            "text/plain": [
              "<class 'statsmodels.iolib.summary2.Summary'>\n",
              "\"\"\"\n",
              "                         Results: Logit\n",
              "================================================================\n",
              "Model:              Logit            Pseudo R-squared: 0.101    \n",
              "Dependent Variable: Coupon           AIC:              126.9739 \n",
              "Date:               2020-03-14 06:06 BIC:              134.7894 \n",
              "No. Observations:   100              Log-Likelihood:   -60.487  \n",
              "Df Model:           2                LL-Null:          -67.301  \n",
              "Df Residuals:       97               LLR p-value:      0.0010981\n",
              "Converged:          1.0000           Scale:            1.0000   \n",
              "No. Iterations:     5.0000                                      \n",
              "-----------------------------------------------------------------\n",
              "              Coef.   Std.Err.     z     P>|z|    [0.025   0.975]\n",
              "-----------------------------------------------------------------\n",
              "const        -2.1464    0.5772  -3.7183  0.0002  -3.2778  -1.0150\n",
              "Card          1.0987    0.4447   2.4707  0.0135   0.2271   1.9703\n",
              "Spending      0.3416    0.1287   2.6551  0.0079   0.0894   0.5938\n",
              "================================================================\n",
              "\n",
              "\"\"\""
            ]
          },
          "metadata": {
            "tags": []
          },
          "execution_count": 5
        }
      ]
    },
    {
      "cell_type": "code",
      "metadata": {
        "id": "4Vef_OK4RTYX",
        "colab_type": "code",
        "colab": {
          "base_uri": "https://localhost:8080/",
          "height": 34
        },
        "outputId": "ae432f65-5522-4c93-ef63-c10b3f0add90"
      },
      "source": [
        "import scipy \n",
        "from scipy.stats import chi2\n",
        "chi2.pdf(13.628,2)"
      ],
      "execution_count": 6,
      "outputs": [
        {
          "output_type": "execute_result",
          "data": {
            "text/plain": [
              "0.000549145469075383"
            ]
          },
          "metadata": {
            "tags": []
          },
          "execution_count": 6
        }
      ]
    }
  ]
}